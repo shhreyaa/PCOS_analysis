{
 "cells": [
  {
   "cell_type": "code",
   "execution_count": 1,
   "metadata": {
    "id": "rBFKIR0rv3A4"
   },
   "outputs": [
    {
     "name": "stdout",
     "output_type": "stream",
     "text": [
      "Requirement already satisfied: openpyxl in c:\\users\\basne\\appdata\\local\\programs\\python\\python310\\lib\\site-packages (3.1.1)\n",
      "Requirement already satisfied: et-xmlfile in c:\\users\\basne\\appdata\\local\\programs\\python\\python310\\lib\\site-packages (from openpyxl) (1.1.0)\n"
     ]
    },
    {
     "name": "stderr",
     "output_type": "stream",
     "text": [
      "\n",
      "[notice] A new release of pip available: 22.3.1 -> 23.0.1\n",
      "[notice] To update, run: python.exe -m pip install --upgrade pip\n"
     ]
    }
   ],
   "source": [
    "!pip install openpyxl\n",
    "import pandas as pd \n",
    "import numpy as np \n",
    "import matplotlib.pyplot as plt\n",
    "import seaborn as sns\n",
    "import openpyxl"
   ]
  },
  {
   "cell_type": "code",
   "execution_count": null,
   "metadata": {
    "id": "BB3AXkhGHmDF"
   },
   "outputs": [],
   "source": []
  },
  {
   "cell_type": "code",
   "execution_count": 2,
   "metadata": {
    "colab": {
     "base_uri": "https://localhost:8080/"
    },
    "id": "tdAlsxI7v7DS",
    "outputId": "9f8e9de9-d778-4fdf-b19a-c98ef96d5bb0"
   },
   "outputs": [],
   "source": [
    "\n",
    "pcos_df = pd.read_csv(\"Data/pcos_cleaned.csv\")"
   ]
  },
  {
   "cell_type": "code",
   "execution_count": 3,
   "metadata": {
    "colab": {
     "base_uri": "https://localhost:8080/"
    },
    "id": "pHtH5-zsv_xQ",
    "outputId": "065dab41-05a6-43a8-e1d2-d2ca3ee3840e"
   },
   "outputs": [
    {
     "name": "stdout",
     "output_type": "stream",
     "text": [
      "<class 'pandas.core.frame.DataFrame'>\n",
      "RangeIndex: 541 entries, 0 to 540\n",
      "Data columns (total 45 columns):\n",
      " #   Column                  Non-Null Count  Dtype  \n",
      "---  ------                  --------------  -----  \n",
      " 0   Unnamed: 0              541 non-null    int64  \n",
      " 1   Sl. No                  541 non-null    int64  \n",
      " 2   Patient File No.        541 non-null    int64  \n",
      " 3   PCOS (Y/N)              541 non-null    int64  \n",
      " 4    Age (yrs)              541 non-null    int64  \n",
      " 5   Weight (Kg)             541 non-null    float64\n",
      " 6   Height(Cm)              541 non-null    float64\n",
      " 7   BMI                     541 non-null    float64\n",
      " 8   Blood Group             541 non-null    int64  \n",
      " 9   Pulse rate(bpm)         541 non-null    int64  \n",
      " 10  RR (breaths/min)        541 non-null    int64  \n",
      " 11  Hb(g/dl)                541 non-null    float64\n",
      " 12  Cycle(R/I)              541 non-null    int64  \n",
      " 13  Cycle length(days)      541 non-null    int64  \n",
      " 14  Marraige Status (Yrs)   541 non-null    float64\n",
      " 15  Pregnant(Y/N)           541 non-null    int64  \n",
      " 16  No. of abortions        541 non-null    int64  \n",
      " 17    I   beta-HCG(mIU/mL)  541 non-null    float64\n",
      " 18  II    beta-HCG(mIU/mL)  541 non-null    float64\n",
      " 19  FSH(mIU/mL)             541 non-null    float64\n",
      " 20  LH(mIU/mL)              541 non-null    float64\n",
      " 21  FSH/LH                  541 non-null    float64\n",
      " 22  Hip(inch)               541 non-null    int64  \n",
      " 23  Waist(inch)             541 non-null    int64  \n",
      " 24  Waist:Hip Ratio         541 non-null    float64\n",
      " 25  TSH (mIU/L)             541 non-null    float64\n",
      " 26  AMH(ng/mL)              541 non-null    float64\n",
      " 27  PRL(ng/mL)              541 non-null    float64\n",
      " 28  Vit D3 (ng/mL)          541 non-null    float64\n",
      " 29  PRG(ng/mL)              541 non-null    float64\n",
      " 30  RBS(mg/dl)              541 non-null    float64\n",
      " 31  Weight gain(Y/N)        541 non-null    int64  \n",
      " 32  hair growth(Y/N)        541 non-null    int64  \n",
      " 33  Skin darkening (Y/N)    541 non-null    int64  \n",
      " 34  Hair loss(Y/N)          541 non-null    int64  \n",
      " 35  Pimples(Y/N)            541 non-null    int64  \n",
      " 36  Fast food (Y/N)         541 non-null    float64\n",
      " 37  Reg.Exercise(Y/N)       541 non-null    int64  \n",
      " 38  BP _Systolic (mmHg)     541 non-null    int64  \n",
      " 39  BP _Diastolic (mmHg)    541 non-null    int64  \n",
      " 40  Follicle No. (L)        541 non-null    int64  \n",
      " 41  Follicle No. (R)        541 non-null    int64  \n",
      " 42  Avg. F size (L) (mm)    541 non-null    float64\n",
      " 43  Avg. F size (R) (mm)    541 non-null    float64\n",
      " 44  Endometrium (mm)        541 non-null    float64\n",
      "dtypes: float64(21), int64(24)\n",
      "memory usage: 190.3 KB\n"
     ]
    }
   ],
   "source": [
    "pcos_df.info()"
   ]
  },
  {
   "cell_type": "code",
   "execution_count": 4,
   "metadata": {
    "colab": {
     "base_uri": "https://localhost:8080/",
     "height": 507
    },
    "id": "4a0Nr3zy3iqt",
    "outputId": "56405704-8cb8-49c2-ae26-95ea6d8743f6"
   },
   "outputs": [
    {
     "name": "stdout",
     "output_type": "stream",
     "text": [
      "count    541.000000\n",
      "mean      73.247689\n",
      "std        4.430285\n",
      "min       13.000000\n",
      "25%       72.000000\n",
      "50%       72.000000\n",
      "75%       74.000000\n",
      "max       82.000000\n",
      "Name: Pulse rate(bpm) , dtype: float64\n"
     ]
    },
    {
     "data": {
      "text/plain": [
       "<Axes: >"
      ]
     },
     "execution_count": 4,
     "metadata": {},
     "output_type": "execute_result"
    },
    {
     "data": {
      "image/png": "[encoded data removed]",
      "text/plain": [
       "<Figure size 640x480 with 1 Axes>"
      ]
     },
     "metadata": {},
     "output_type": "display_data"
    }
   ],
   "source": [
    "print(pcos_df['Pulse rate(bpm) '].describe())\n",
    "\n",
    "sns.boxplot(pcos_df['Pulse rate(bpm) '])\n",
    "#data is skewed so we use median "
   ]
  },
  {
   "cell_type": "code",
   "execution_count": 5,
   "metadata": {
    "id": "MYLMSMls3odB"
   },
   "outputs": [],
   "source": [
    "#replacing all values less than 60 with the median \n",
    "pcos_df['Pulse rate(bpm) '].mask(pcos_df['Pulse rate(bpm) '] < 60 ,pcos_df['Pulse rate(bpm) '].median() , inplace=True)"
   ]
  },
  {
   "cell_type": "code",
   "execution_count": 6,
   "metadata": {
    "colab": {
     "base_uri": "https://localhost:8080/",
     "height": 507
    },
    "id": "SnSptXFv3zy1",
    "outputId": "37760958-4321-40b9-b49a-892fc9b1e835"
   },
   "outputs": [
    {
     "name": "stdout",
     "output_type": "stream",
     "text": [
      "count    541.000000\n",
      "mean      73.456562\n",
      "std        2.686120\n",
      "min       70.000000\n",
      "25%       72.000000\n",
      "50%       72.000000\n",
      "75%       74.000000\n",
      "max       82.000000\n",
      "Name: Pulse rate(bpm) , dtype: float64\n"
     ]
    },
    {
     "data": {
      "text/plain": [
       "<Axes: >"
      ]
     },
     "execution_count": 6,
     "metadata": {},
     "output_type": "execute_result"
    },
    {
     "data": {
      "image/png": "[encoded data removed]",
      "text/plain": [
       "<Figure size 640x480 with 1 Axes>"
      ]
     },
     "metadata": {},
     "output_type": "display_data"
    }
   ],
   "source": [
    "print(pcos_df['Pulse rate(bpm) '].describe())\n",
    "\n",
    "sns.boxplot(pcos_df['Pulse rate(bpm) '])"
   ]
  },
  {
   "cell_type": "code",
   "execution_count": 7,
   "metadata": {
    "colab": {
     "base_uri": "https://localhost:8080/",
     "height": 507
    },
    "id": "-pZheMzz30bv",
    "outputId": "e97010f8-8f16-452c-9080-1f25d11c1482"
   },
   "outputs": [
    {
     "name": "stdout",
     "output_type": "stream",
     "text": [
      "count    541.000000\n",
      "mean      19.243993\n",
      "std        1.688629\n",
      "min       16.000000\n",
      "25%       18.000000\n",
      "50%       18.000000\n",
      "75%       20.000000\n",
      "max       28.000000\n",
      "Name: RR (breaths/min), dtype: float64\n"
     ]
    },
    {
     "data": {
      "text/plain": [
       "<Axes: >"
      ]
     },
     "execution_count": 7,
     "metadata": {},
     "output_type": "execute_result"
    },
    {
     "data": {
      "image/png": "[encoded data removed]",
      "text/plain": [
       "<Figure size 640x480 with 1 Axes>"
      ]
     },
     "metadata": {},
     "output_type": "display_data"
    }
   ],
   "source": [
    "print(pcos_df['RR (breaths/min)'].describe())\n",
    "sns.boxplot(pcos_df['RR (breaths/min)'])\n",
    "\n",
    "#The normal respiration rate for an adult at rest is 12 to 20 breaths per minute. A respiration rate under 12 or over 25 breaths per minute while resting is \n",
    "#considered abnormal but it can be present so yo data chai I didn't do anything\n"
   ]
  },
  {
   "cell_type": "code",
   "execution_count": 8,
   "metadata": {
    "colab": {
     "base_uri": "https://localhost:8080/",
     "height": 698
    },
    "id": "JKiIvkDF5Zyu",
    "outputId": "7f338022-f3a2-46f8-c663-c5fef78ba470"
   },
   "outputs": [
    {
     "name": "stdout",
     "output_type": "stream",
     "text": [
      "count    541.000000\n",
      "mean      11.160037\n",
      "std        0.866904\n",
      "min        8.500000\n",
      "25%       10.500000\n",
      "50%       11.000000\n",
      "75%       11.700000\n",
      "max       14.800000\n",
      "Name: Hb(g/dl), dtype: float64\n",
      "count    541.000000\n",
      "mean       2.560074\n",
      "std        0.901950\n",
      "min        2.000000\n",
      "25%        2.000000\n",
      "50%        2.000000\n",
      "75%        4.000000\n",
      "max        5.000000\n",
      "Name: Cycle(R/I), dtype: float64\n"
     ]
    },
    {
     "data": {
      "text/plain": [
       "<Axes: >"
      ]
     },
     "execution_count": 8,
     "metadata": {},
     "output_type": "execute_result"
    },
    {
     "data": {
      "image/png": "[encoded data removed]",
      "text/plain": [
       "<Figure size 640x480 with 1 Axes>"
      ]
     },
     "metadata": {},
     "output_type": "display_data"
    }
   ],
   "source": [
    "#F For women, a normal level ranges between 12.3 gm/dL and 15.3 gm/dL. \n",
    "print(pcos_df['Hb(g/dl)'].describe())\n",
    "sns.boxplot(pcos_df['Hb(g/dl)'])\n",
    "\n",
    "print(pcos_df['Cycle(R/I)'].describe())\n",
    "sns.boxplot(pcos_df['Cycle(R/I)'])\n",
    "\n",
    "\n"
   ]
  },
  {
   "cell_type": "code",
   "execution_count": 9,
   "metadata": {
    "colab": {
     "base_uri": "https://localhost:8080/",
     "height": 733
    },
    "id": "9vnIFm_P57db",
    "outputId": "b1fd5557-a33e-417e-d318-4e7d3da84261"
   },
   "outputs": [
    {
     "name": "stdout",
     "output_type": "stream",
     "text": [
      "count    541.00000\n",
      "mean       4.94085\n",
      "std        1.49202\n",
      "min        0.00000\n",
      "25%        4.00000\n",
      "50%        5.00000\n",
      "75%        5.00000\n",
      "max       12.00000\n",
      "Name: Cycle length(days), dtype: float64\n",
      "5     276\n",
      "6      91\n",
      "4      61\n",
      "2      38\n",
      "3      36\n",
      "7      19\n",
      "9       9\n",
      "11      5\n",
      "8       2\n",
      "12      2\n",
      "0       1\n",
      "10      1\n",
      "Name: Cycle length(days), dtype: int64\n"
     ]
    },
    {
     "data": {
      "text/plain": [
       "<Axes: >"
      ]
     },
     "execution_count": 9,
     "metadata": {},
     "output_type": "execute_result"
    },
    {
     "data": {
      "image/png": "[encoded data removed]",
      "text/plain": [
       "<Figure size 640x480 with 1 Axes>"
      ]
     },
     "metadata": {},
     "output_type": "display_data"
    }
   ],
   "source": [
    "print(pcos_df['Cycle length(days)'].describe())\n",
    "print(pcos_df['Cycle length(days)'].value_counts())\n",
    "sns.boxplot(pcos_df['Cycle length(days)'])"
   ]
  },
  {
   "cell_type": "code",
   "execution_count": 10,
   "metadata": {
    "colab": {
     "base_uri": "https://localhost:8080/",
     "height": 716
    },
    "id": "3Ne853VD64GL",
    "outputId": "cd11f731-9ad3-43a4-f176-a9a93888f3ef"
   },
   "outputs": [
    {
     "name": "stdout",
     "output_type": "stream",
     "text": [
      "count    541.000000\n",
      "mean       4.950092\n",
      "std        1.476766\n",
      "min        2.000000\n",
      "25%        5.000000\n",
      "50%        5.000000\n",
      "75%        5.000000\n",
      "max       12.000000\n",
      "Name: Cycle length(days), dtype: float64\n",
      "5     277\n",
      "6      91\n",
      "4      61\n",
      "2      38\n",
      "3      36\n",
      "7      19\n",
      "9       9\n",
      "11      5\n",
      "8       2\n",
      "12      2\n",
      "10      1\n",
      "Name: Cycle length(days), dtype: int64\n"
     ]
    },
    {
     "data": {
      "text/plain": [
       "<Axes: >"
      ]
     },
     "execution_count": 10,
     "metadata": {},
     "output_type": "execute_result"
    },
    {
     "data": {
      "image/png": "[encoded data removed]",
      "text/plain": [
       "<Figure size 640x480 with 1 Axes>"
      ]
     },
     "metadata": {},
     "output_type": "display_data"
    }
   ],
   "source": [
    "#since cycle length cannot be 0 replacing that with median\n",
    "\n",
    "pcos_df['Cycle length(days)'].mask(pcos_df['Cycle length(days)'] == 0 ,pcos_df['Cycle length(days)'].median() , inplace=True)\n",
    "\n",
    "print(pcos_df['Cycle length(days)'].describe())\n",
    "print(pcos_df['Cycle length(days)'].value_counts())\n",
    "sns.boxplot(pcos_df['Cycle length(days)'])\n"
   ]
  },
  {
   "cell_type": "code",
   "execution_count": 11,
   "metadata": {
    "colab": {
     "base_uri": "https://localhost:8080/"
    },
    "id": "Tgl8rIWN9G4s",
    "outputId": "5822d3cd-1f19-4c94-eba0-aa031f2e04b1"
   },
   "outputs": [
    {
     "name": "stdout",
     "output_type": "stream",
     "text": [
      "count      541.000000\n",
      "mean       664.549235\n",
      "std       3348.920576\n",
      "min          1.300000\n",
      "25%          1.990000\n",
      "50%         20.000000\n",
      "75%        297.210000\n",
      "max      32460.970000\n",
      "Name:   I   beta-HCG(mIU/mL), dtype: float64\n"
     ]
    }
   ],
   "source": [
    "print(pcos_df['  I   beta-HCG(mIU/mL)'].describe())\n",
    "\n",
    "#skipped   I   beta-HCG(mIU/mL) and II beta-HCG(mIU/mL) refer to google docs for the level they should be at"
   ]
  },
  {
   "cell_type": "code",
   "execution_count": 12,
   "metadata": {
    "colab": {
     "base_uri": "https://localhost:8080/",
     "height": 507
    },
    "id": "EJWnzCgS9MB7",
    "outputId": "8d232dee-edc9-4d5c-83e4-9f30f2efcb14"
   },
   "outputs": [
    {
     "name": "stdout",
     "output_type": "stream",
     "text": [
      "count     541.000000\n",
      "mean       14.601832\n",
      "std       217.022081\n",
      "min         0.210000\n",
      "25%         3.300000\n",
      "50%         4.850000\n",
      "75%         6.410000\n",
      "max      5052.000000\n",
      "Name: FSH(mIU/mL), dtype: float64\n"
     ]
    },
    {
     "data": {
      "text/plain": [
       "<Axes: >"
      ]
     },
     "execution_count": 12,
     "metadata": {},
     "output_type": "execute_result"
    },
    {
     "data": {
      "image/png": "[encoded data removed]",
      "text/plain": [
       "<Figure size 640x480 with 1 Axes>"
      ]
     },
     "metadata": {},
     "output_type": "display_data"
    }
   ],
   "source": [
    "print(pcos_df['FSH(mIU/mL)'].describe())\n",
    "\n",
    "\n",
    "sns.boxplot(pcos_df['FSH(mIU/mL)'])"
   ]
  },
  {
   "cell_type": "code",
   "execution_count": 13,
   "metadata": {
    "colab": {
     "base_uri": "https://localhost:8080/",
     "height": 507
    },
    "id": "819V3co4D_w6",
    "outputId": "df56561b-92b8-4f42-d3b2-02c6ffdd0e4a"
   },
   "outputs": [
    {
     "name": "stdout",
     "output_type": "stream",
     "text": [
      "count    541.000000\n",
      "mean       5.272534\n",
      "std        4.485269\n",
      "min        0.210000\n",
      "25%        3.300000\n",
      "50%        4.850000\n",
      "75%        6.400000\n",
      "max       65.400000\n",
      "Name: FSH(mIU/mL), dtype: float64\n"
     ]
    },
    {
     "data": {
      "text/plain": [
       "<Axes: >"
      ]
     },
     "execution_count": 13,
     "metadata": {},
     "output_type": "execute_result"
    },
    {
     "data": {
      "image/png": "[encoded data removed]",
      "text/plain": [
       "<Figure size 640x480 with 1 Axes>"
      ]
     },
     "metadata": {},
     "output_type": "display_data"
    }
   ],
   "source": [
    "#Follicle-stimulating hormone (FSH) : During puberty: 0.3 to 10.0 mIU/mL Adult: 1.5 to 12.4 mIU/mL \n",
    "#Removing values greater than 134.80\n",
    "pcos_df['FSH(mIU/mL)'].mask(pcos_df['FSH(mIU/mL)'] > 134.80 ,pcos_df['FSH(mIU/mL)'].median() , inplace=True)\n",
    "print(pcos_df['FSH(mIU/mL)'].describe())\n",
    "\n",
    "\n",
    "sns.boxplot(pcos_df['FSH(mIU/mL)'])"
   ]
  },
  {
   "cell_type": "code",
   "execution_count": 14,
   "metadata": {
    "colab": {
     "base_uri": "https://localhost:8080/",
     "height": 507
    },
    "id": "otdihesFEv4B",
    "outputId": "3f6a35d2-b9c8-4433-be82-6c89b4127ab0"
   },
   "outputs": [
    {
     "name": "stdout",
     "output_type": "stream",
     "text": [
      "count     541.000000\n",
      "mean        6.469919\n",
      "std        86.673255\n",
      "min         0.020000\n",
      "25%         1.020000\n",
      "50%         2.300000\n",
      "75%         3.680000\n",
      "max      2018.000000\n",
      "Name: LH(mIU/mL), dtype: float64\n"
     ]
    },
    {
     "data": {
      "text/plain": [
       "<Axes: >"
      ]
     },
     "execution_count": 14,
     "metadata": {},
     "output_type": "execute_result"
    },
    {
     "data": {
      "image/png": "[encoded data removed]",
      "text/plain": [
       "<Figure size 640x480 with 1 Axes>"
      ]
     },
     "metadata": {},
     "output_type": "display_data"
    }
   ],
   "source": [
    "#Luteinizing Hormone (LH):\n",
    "\n",
    "print(pcos_df['LH(mIU/mL)'].describe())\n",
    "\n",
    "\n",
    "sns.boxplot(pcos_df['LH(mIU/mL)'])"
   ]
  },
  {
   "cell_type": "code",
   "execution_count": 15,
   "metadata": {
    "colab": {
     "base_uri": "https://localhost:8080/",
     "height": 507
    },
    "id": "qCIgY9_5Fatc",
    "outputId": "f7d7426a-c3ee-4937-ff2a-c87b844524dc"
   },
   "outputs": [
    {
     "name": "stdout",
     "output_type": "stream",
     "text": [
      "count    541.000000\n",
      "mean       2.744041\n",
      "std        2.305620\n",
      "min        0.020000\n",
      "25%        1.020000\n",
      "50%        2.300000\n",
      "75%        3.670000\n",
      "max       14.690000\n",
      "Name: LH(mIU/mL), dtype: float64\n"
     ]
    },
    {
     "data": {
      "text/plain": [
       "<Axes: >"
      ]
     },
     "execution_count": 15,
     "metadata": {},
     "output_type": "execute_result"
    },
    {
     "data": {
      "image/png": "[encoded data removed]",
      "text/plain": [
       "<Figure size 640x480 with 1 Axes>"
      ]
     },
     "metadata": {},
     "output_type": "display_data"
    }
   ],
   "source": [
    "#Removing values greater than 101\n",
    "pcos_df['LH(mIU/mL)'].mask(pcos_df['LH(mIU/mL)'] > 101 ,pcos_df['LH(mIU/mL)'].median() , inplace=True)\n",
    "print(pcos_df['LH(mIU/mL)'].describe())\n",
    "\n",
    "\n",
    "sns.boxplot(pcos_df['LH(mIU/mL)'])"
   ]
  },
  {
   "cell_type": "code",
   "execution_count": 16,
   "metadata": {
    "colab": {
     "base_uri": "https://localhost:8080/",
     "height": 507
    },
    "id": "Bc2MzepJUb69",
    "outputId": "4f5fff02-1db7-4235-c4cd-544d5efcdfe8"
   },
   "outputs": [
    {
     "name": "stdout",
     "output_type": "stream",
     "text": [
      "count     541.000000\n",
      "mean        6.904917\n",
      "std        60.691982\n",
      "min         0.000000\n",
      "25%         1.420000\n",
      "50%         2.170000\n",
      "75%         3.960000\n",
      "max      1372.830000\n",
      "Name: FSH/LH, dtype: float64\n"
     ]
    },
    {
     "data": {
      "text/plain": [
       "<Axes: >"
      ]
     },
     "execution_count": 16,
     "metadata": {},
     "output_type": "execute_result"
    },
    {
     "data": {
      "image/png": "[encoded data removed]",
      "text/plain": [
       "<Figure size 640x480 with 1 Axes>"
      ]
     },
     "metadata": {},
     "output_type": "display_data"
    }
   ],
   "source": [
    "\n",
    "print(pcos_df['FSH/LH'].describe())\n",
    "\n",
    "\n",
    "sns.boxplot(pcos_df['FSH/LH'])"
   ]
  },
  {
   "cell_type": "code",
   "execution_count": 17,
   "metadata": {
    "colab": {
     "base_uri": "https://localhost:8080/",
     "height": 507
    },
    "id": "uA50wX99GPnD",
    "outputId": "8378b97f-b1f5-434f-a15e-eeff97df1862"
   },
   "outputs": [
    {
     "name": "stdout",
     "output_type": "stream",
     "text": [
      "count    541.000000\n",
      "mean       4.373240\n",
      "std       14.900231\n",
      "min        0.228261\n",
      "25%        1.416244\n",
      "50%        2.161172\n",
      "75%        3.939394\n",
      "max      327.000000\n",
      "Name: FSH/LH, dtype: float64\n"
     ]
    },
    {
     "data": {
      "text/plain": [
       "<Axes: >"
      ]
     },
     "execution_count": 17,
     "metadata": {},
     "output_type": "execute_result"
    },
    {
     "data": {
      "image/png": "[encoded data removed]",
      "text/plain": [
       "<Figure size 640x480 with 1 Axes>"
      ]
     },
     "metadata": {},
     "output_type": "display_data"
    }
   ],
   "source": [
    "#Recalculating FSH/LH\n",
    "pcos_df['FSH/LH']= pcos_df['FSH(mIU/mL)']/pcos_df['LH(mIU/mL)']\n",
    "\n",
    "print(pcos_df['FSH/LH'].describe())\n",
    "\n",
    "\n",
    "sns.boxplot(pcos_df['FSH/LH'])\n",
    "#decide what to do with 327"
   ]
  },
  {
   "cell_type": "code",
   "execution_count": 18,
   "metadata": {
    "colab": {
     "base_uri": "https://localhost:8080/"
    },
    "id": "jFFUx9-Mbf9H",
    "outputId": "471ef7c2-caf0-4c9f-d7f3-897a9897166b"
   },
   "outputs": [
    {
     "data": {
      "text/plain": [
       "FSH(mIU/mL)     65.4\n",
       "LH(mIU/mL)       0.2\n",
       "FSH/LH         327.0\n",
       "Name: 250, dtype: float64"
      ]
     },
     "execution_count": 18,
     "metadata": {},
     "output_type": "execute_result"
    }
   ],
   "source": [
    "\n",
    "pcos_df.loc[250,['FSH(mIU/mL)','LH(mIU/mL)','FSH/LH']]"
   ]
  },
  {
   "cell_type": "code",
   "execution_count": 19,
   "metadata": {
    "id": "uoAAr3T_fT-n"
   },
   "outputs": [],
   "source": [
    "pcos_df.drop(pcos_df.loc[pcos_df['FSH/LH']==327].index, inplace=True)"
   ]
  },
  {
   "cell_type": "code",
   "execution_count": 20,
   "metadata": {
    "colab": {
     "base_uri": "https://localhost:8080/"
    },
    "id": "3ereXL4fRd0B",
    "outputId": "a1cdfcb9-1865-42a8-c55f-bfb4cf3419e7"
   },
   "outputs": [
    {
     "name": "stdout",
     "output_type": "stream",
     "text": [
      "count    540.000000\n",
      "mean       5.161187\n",
      "std        3.665392\n",
      "min        0.210000\n",
      "25%        3.300000\n",
      "50%        4.845000\n",
      "75%        6.400000\n",
      "max       60.370000\n",
      "Name: FSH(mIU/mL), dtype: float64\n",
      "count    540.000000\n",
      "mean       2.748752\n",
      "std        2.305150\n",
      "min        0.020000\n",
      "25%        1.020000\n",
      "50%        2.300000\n",
      "75%        3.672500\n",
      "max       14.690000\n",
      "Name: LH(mIU/mL), dtype: float64\n",
      "count    540.000000\n",
      "mean       3.775783\n",
      "std        5.381258\n",
      "min        0.228261\n",
      "25%        1.415529\n",
      "50%        2.160749\n",
      "75%        3.888314\n",
      "max       61.875000\n",
      "Name: FSH/LH, dtype: float64\n"
     ]
    }
   ],
   "source": [
    "print(pcos_df['FSH(mIU/mL)'].describe())\n",
    "print(pcos_df['LH(mIU/mL)'].describe())\n",
    "print(pcos_df['FSH/LH'].describe())"
   ]
  },
  {
   "cell_type": "code",
   "execution_count": 21,
   "metadata": {
    "colab": {
     "base_uri": "https://localhost:8080/",
     "height": 507
    },
    "id": "cxytbIHvUlTk",
    "outputId": "d014643b-b9ef-4899-feae-864e7d985165"
   },
   "outputs": [
    {
     "name": "stdout",
     "output_type": "stream",
     "text": [
      "count    540.000000\n",
      "mean       2.981320\n",
      "std        3.759014\n",
      "min        0.040000\n",
      "25%        1.480000\n",
      "50%        2.250000\n",
      "75%        3.570000\n",
      "max       65.000000\n",
      "Name: TSH (mIU/L), dtype: float64\n"
     ]
    },
    {
     "data": {
      "text/plain": [
       "<Axes: >"
      ]
     },
     "execution_count": 21,
     "metadata": {},
     "output_type": "execute_result"
    },
    {
     "data": {
      "image/png": "[encoded data removed]",
      "text/plain": [
       "<Figure size 640x480 with 1 Axes>"
      ]
     },
     "metadata": {},
     "output_type": "display_data"
    }
   ],
   "source": [
    "\n",
    "print(pcos_df['TSH (mIU/L)'].describe())\n",
    "sns.boxplot(pcos_df['TSH (mIU/L)'])\n",
    "#This data has many outliers but sometimes you can have TSH very high. need to reserach more"
   ]
  },
  {
   "cell_type": "code",
   "execution_count": 22,
   "metadata": {
    "colab": {
     "base_uri": "https://localhost:8080/",
     "height": 507
    },
    "id": "zYhjt33EUnkx",
    "outputId": "2e53d966-86ae-4092-dfd7-7432c626396f"
   },
   "outputs": [
    {
     "name": "stdout",
     "output_type": "stream",
     "text": [
      "count    540.000000\n",
      "mean       5.610487\n",
      "std        5.877446\n",
      "min        0.100000\n",
      "25%        2.010000\n",
      "50%        3.700000\n",
      "75%        6.870000\n",
      "max       66.000000\n",
      "Name: AMH(ng/mL), dtype: float64\n"
     ]
    },
    {
     "data": {
      "text/plain": [
       "<Axes: >"
      ]
     },
     "execution_count": 22,
     "metadata": {},
     "output_type": "execute_result"
    },
    {
     "data": {
      "image/png": "[encoded data removed]",
      "text/plain": [
       "<Figure size 640x480 with 1 Axes>"
      ]
     },
     "metadata": {},
     "output_type": "display_data"
    }
   ],
   "source": [
    "pcos_df[\"AMH(ng/mL)\"] = pd.to_numeric(pcos_df[\"AMH(ng/mL)\"], errors='coerce')\n",
    "print(pcos_df['AMH(ng/mL)'].describe())\n",
    "sns.boxplot(pcos_df['AMH(ng/mL)'])\n"
   ]
  },
  {
   "cell_type": "code",
   "execution_count": 23,
   "metadata": {
    "colab": {
     "base_uri": "https://localhost:8080/"
    },
    "id": "vXgaLjUzlDCJ",
    "outputId": "ebbcc8e7-a1e4-480c-89ed-0fa2982e3400"
   },
   "outputs": [
    {
     "name": "stdout",
     "output_type": "stream",
     "text": [
      "count    540.000000\n",
      "mean       4.272950\n",
      "std        2.654525\n",
      "min        0.100000\n",
      "25%        2.010000\n",
      "50%        3.700000\n",
      "75%        6.870000\n",
      "max        8.160000\n",
      "Name: AMH(ng/mL), dtype: float64\n"
     ]
    }
   ],
   "source": [
    "pcos_df['AMH(ng/mL)'].mask(pcos_df['AMH(ng/mL)'] >8.16 ,8.16, inplace=True)\n",
    "print(pcos_df['AMH(ng/mL)'].describe())\n"
   ]
  },
  {
   "cell_type": "code",
   "execution_count": 24,
   "metadata": {
    "colab": {
     "base_uri": "https://localhost:8080/",
     "height": 507
    },
    "id": "w7oZ4sQEW0Cu",
    "outputId": "f99df15e-9f4b-4be5-ca4a-4ec1355318e2"
   },
   "outputs": [
    {
     "name": "stdout",
     "output_type": "stream",
     "text": [
      "count    540.000000\n",
      "mean      24.326352\n",
      "std       14.983845\n",
      "min        0.400000\n",
      "25%       14.497500\n",
      "50%       21.920000\n",
      "75%       29.910000\n",
      "max      128.240000\n",
      "Name: PRL(ng/mL), dtype: float64\n"
     ]
    },
    {
     "data": {
      "text/plain": [
       "<Axes: >"
      ]
     },
     "execution_count": 24,
     "metadata": {},
     "output_type": "execute_result"
    },
    {
     "data": {
      "image/png": "[encoded data removed]",
      "text/plain": [
       "<Figure size 640x480 with 1 Axes>"
      ]
     },
     "metadata": {},
     "output_type": "display_data"
    }
   ],
   "source": [
    "#PRL(ng/mL):Prolactin blood test\n",
    "print(pcos_df['PRL(ng/mL)'].describe())\n",
    "sns.boxplot(pcos_df['PRL(ng/mL)'])\n"
   ]
  },
  {
   "cell_type": "code",
   "execution_count": null,
   "metadata": {
    "id": "OxlonXOPLsSS"
   },
   "outputs": [],
   "source": []
  },
  {
   "cell_type": "code",
   "execution_count": 25,
   "metadata": {
    "colab": {
     "base_uri": "https://localhost:8080/",
     "height": 507
    },
    "id": "gw4g1e8LauoC",
    "outputId": "f41b25ea-1a94-4a21-d499-f0c9ba62caff"
   },
   "outputs": [
    {
     "name": "stdout",
     "output_type": "stream",
     "text": [
      "count     540.000000\n",
      "mean       49.973681\n",
      "std       346.524993\n",
      "min         0.000000\n",
      "25%        20.800000\n",
      "50%        25.950000\n",
      "75%        34.550000\n",
      "max      6014.660000\n",
      "Name: Vit D3 (ng/mL), dtype: float64\n"
     ]
    },
    {
     "data": {
      "text/plain": [
       "<Axes: >"
      ]
     },
     "execution_count": 25,
     "metadata": {},
     "output_type": "execute_result"
    },
    {
     "data": {
      "image/png": "[encoded data removed]",
      "text/plain": [
       "<Figure size 640x480 with 1 Axes>"
      ]
     },
     "metadata": {},
     "output_type": "display_data"
    }
   ],
   "source": [
    "print(pcos_df['Vit D3 (ng/mL)'].describe())\n",
    "sns.boxplot(pcos_df['Vit D3 (ng/mL)'])\n"
   ]
  },
  {
   "cell_type": "code",
   "execution_count": 26,
   "metadata": {
    "colab": {
     "base_uri": "https://localhost:8080/",
     "height": 507
    },
    "id": "jaUBw3zma6h2",
    "outputId": "302a721e-8c86-4724-d9f7-1d94400d1d5c"
   },
   "outputs": [
    {
     "name": "stdout",
     "output_type": "stream",
     "text": [
      "count    540.000000\n",
      "mean      28.986065\n",
      "std       12.587204\n",
      "min        0.000000\n",
      "25%       20.800000\n",
      "50%       25.950000\n",
      "75%       34.550000\n",
      "max       90.000000\n",
      "Name: Vit D3 (ng/mL), dtype: float64\n"
     ]
    },
    {
     "data": {
      "text/plain": [
       "<Axes: >"
      ]
     },
     "execution_count": 26,
     "metadata": {},
     "output_type": "execute_result"
    },
    {
     "data": {
      "image/png": "[encoded data removed]",
      "text/plain": [
       "<Figure size 640x480 with 1 Axes>"
      ]
     },
     "metadata": {},
     "output_type": "display_data"
    }
   ],
   "source": [
    "#cleaning vit d\n",
    "#Blood levels in the range of 20–30 ng/mL are usually considered sufficient. The safe upper limit is considered to be about 60 ng/mL, but people with symptoms of toxicity usually have levels above 150 ng/mL.\n",
    "\n",
    "pcos_df['Vit D3 (ng/mL)'].mask(pcos_df['Vit D3 (ng/mL)'] > 1000 ,pcos_df['Vit D3 (ng/mL)'].mean() , inplace=True)\n",
    "print(pcos_df['Vit D3 (ng/mL)'].describe())\n",
    "sns.boxplot(pcos_df['Vit D3 (ng/mL)'])"
   ]
  },
  {
   "cell_type": "code",
   "execution_count": 27,
   "metadata": {
    "colab": {
     "base_uri": "https://localhost:8080/"
    },
    "id": "st-HSZ37cm97",
    "outputId": "7eba024a-0861-4087-d0a3-74a516398619"
   },
   "outputs": [
    {
     "data": {
      "text/plain": [
       "Index(['Unnamed: 0', 'Sl. No', 'Patient File No.', 'PCOS (Y/N)', ' Age (yrs)',\n",
       "       'Weight (Kg)', 'Height(Cm) ', 'BMI', 'Blood Group', 'Pulse rate(bpm) ',\n",
       "       'RR (breaths/min)', 'Hb(g/dl)', 'Cycle(R/I)', 'Cycle length(days)',\n",
       "       'Marraige Status (Yrs)', 'Pregnant(Y/N)', 'No. of abortions',\n",
       "       '  I   beta-HCG(mIU/mL)', 'II    beta-HCG(mIU/mL)', 'FSH(mIU/mL)',\n",
       "       'LH(mIU/mL)', 'FSH/LH', 'Hip(inch)', 'Waist(inch)', 'Waist:Hip Ratio',\n",
       "       'TSH (mIU/L)', 'AMH(ng/mL)', 'PRL(ng/mL)', 'Vit D3 (ng/mL)',\n",
       "       'PRG(ng/mL)', 'RBS(mg/dl)', 'Weight gain(Y/N)', 'hair growth(Y/N)',\n",
       "       'Skin darkening (Y/N)', 'Hair loss(Y/N)', 'Pimples(Y/N)',\n",
       "       'Fast food (Y/N)', 'Reg.Exercise(Y/N)', 'BP _Systolic (mmHg)',\n",
       "       'BP _Diastolic (mmHg)', 'Follicle No. (L)', 'Follicle No. (R)',\n",
       "       'Avg. F size (L) (mm)', 'Avg. F size (R) (mm)', 'Endometrium (mm)'],\n",
       "      dtype='object')"
      ]
     },
     "execution_count": 27,
     "metadata": {},
     "output_type": "execute_result"
    }
   ],
   "source": [
    "pcos_df.columns\n"
   ]
  },
  {
   "cell_type": "code",
   "execution_count": null,
   "metadata": {
    "id": "T2e69L6BV2eq"
   },
   "outputs": [],
   "source": []
  },
  {
   "cell_type": "code",
   "execution_count": 28,
   "metadata": {
    "colab": {
     "base_uri": "https://localhost:8080/",
     "height": 507
    },
    "id": "dEzfVGS7LuG1",
    "outputId": "7b24ba8b-22d9-4775-b1c3-8b5edd52db2f"
   },
   "outputs": [
    {
     "name": "stdout",
     "output_type": "stream",
     "text": [
      "count    540.000000\n",
      "mean       0.611613\n",
      "std        3.812353\n",
      "min        0.047000\n",
      "25%        0.250000\n",
      "50%        0.320000\n",
      "75%        0.452500\n",
      "max       85.000000\n",
      "Name: PRG(ng/mL), dtype: float64\n"
     ]
    },
    {
     "data": {
      "text/plain": [
       "<Axes: >"
      ]
     },
     "execution_count": 28,
     "metadata": {},
     "output_type": "execute_result"
    },
    {
     "data": {
      "image/png": "[encoded data removed]",
      "text/plain": [
       "<Figure size 640x480 with 1 Axes>"
      ]
     },
     "metadata": {},
     "output_type": "display_data"
    }
   ],
   "source": [
    "#PRG(ng/mL):serum progesterone test \n",
    "#men, postmenopausal women, and women at the beginning of their menstrual cycle: 1 ng/mL or under || pregnant women in their second trimester: 25.6 to 89.4 ng/mL\n",
    "print(pcos_df['PRG(ng/mL)'].describe())\n",
    "sns.boxplot(pcos_df['PRG(ng/mL)'])\n",
    "\n"
   ]
  },
  {
   "cell_type": "code",
   "execution_count": 29,
   "metadata": {
    "colab": {
     "base_uri": "https://localhost:8080/",
     "height": 507
    },
    "id": "0O8CDmMoTS9H",
    "outputId": "72fe23e0-d4bc-4ca9-9af8-9fdd1e40aa3e"
   },
   "outputs": [
    {
     "name": "stdout",
     "output_type": "stream",
     "text": [
      "count    540.000000\n",
      "mean      99.861481\n",
      "std       18.566926\n",
      "min       60.000000\n",
      "25%       92.000000\n",
      "50%      100.000000\n",
      "75%      107.000000\n",
      "max      350.000000\n",
      "Name: RBS(mg/dl), dtype: float64\n"
     ]
    },
    {
     "data": {
      "text/plain": [
       "<Axes: >"
      ]
     },
     "execution_count": 29,
     "metadata": {},
     "output_type": "execute_result"
    },
    {
     "data": {
      "image/png": "[encoded data removed]",
      "text/plain": [
       "<Figure size 640x480 with 1 Axes>"
      ]
     },
     "metadata": {},
     "output_type": "display_data"
    }
   ],
   "source": [
    "#RBS: Random Blood Sugar (RBS) Test\n",
    "#If blood sugar higher than usually 200 (mg/dL) to 350 mg/dL in adults and 200 mg/dL to 240 mg/dL in children, then mild symptoms of high blood sugar.\n",
    "\n",
    "print(pcos_df['RBS(mg/dl)'].describe())\n",
    "sns.boxplot(pcos_df['RBS(mg/dl)'])\n"
   ]
  },
  {
   "cell_type": "code",
   "execution_count": 30,
   "metadata": {
    "colab": {
     "base_uri": "https://localhost:8080/",
     "height": 508
    },
    "id": "Bxp6A81TV7u9",
    "outputId": "51149d1d-78e2-4e4d-e78f-a842f3cd5691"
   },
   "outputs": [
    {
     "name": "stdout",
     "output_type": "stream",
     "text": [
      "count    540.000000\n",
      "mean     114.833333\n",
      "std        5.919215\n",
      "min      100.000000\n",
      "25%      110.000000\n",
      "50%      110.000000\n",
      "75%      120.000000\n",
      "max      140.000000\n",
      "Name: BP _Systolic (mmHg), dtype: float64\n"
     ]
    },
    {
     "data": {
      "text/plain": [
       "<Axes: >"
      ]
     },
     "execution_count": 30,
     "metadata": {},
     "output_type": "execute_result"
    },
    {
     "data": {
      "image/png": "[encoded data removed]",
      "text/plain": [
       "<Figure size 640x480 with 1 Axes>"
      ]
     },
     "metadata": {},
     "output_type": "display_data"
    }
   ],
   "source": [
    "#BP _Systolic (mmHg)\n",
    "pcos_df['BP _Systolic (mmHg)'].mask(pcos_df['BP _Systolic (mmHg)'] < 80 ,pcos_df['BP _Systolic (mmHg)'].median() , inplace=True)\n",
    "print(pcos_df['BP _Systolic (mmHg)'].describe())\n",
    "sns.boxplot(pcos_df['BP _Systolic (mmHg)'])\n"
   ]
  },
  {
   "cell_type": "code",
   "execution_count": 31,
   "metadata": {
    "colab": {
     "base_uri": "https://localhost:8080/",
     "height": 508
    },
    "id": "UWKJfq8dXIid",
    "outputId": "04b93798-4e99-4b69-b0be-6a21eb7314f7"
   },
   "outputs": [
    {
     "name": "stdout",
     "output_type": "stream",
     "text": [
      "count    540.000000\n",
      "mean      77.055556\n",
      "std        4.722019\n",
      "min       60.000000\n",
      "25%       70.000000\n",
      "50%       80.000000\n",
      "75%       80.000000\n",
      "max      100.000000\n",
      "Name: BP _Diastolic (mmHg), dtype: float64\n"
     ]
    },
    {
     "data": {
      "text/plain": [
       "<Axes: >"
      ]
     },
     "execution_count": 31,
     "metadata": {},
     "output_type": "execute_result"
    },
    {
     "data": {
      "image/png": "[encoded data removed]",
      "text/plain": [
       "<Figure size 640x480 with 1 Axes>"
      ]
     },
     "metadata": {},
     "output_type": "display_data"
    }
   ],
   "source": [
    "#BP _Diastolic (mmHg)\n",
    "pcos_df['BP _Diastolic (mmHg)'].mask(pcos_df['BP _Diastolic (mmHg)'] < 50 ,pcos_df['BP _Diastolic (mmHg)'].median() , inplace=True)\n",
    "\n",
    "print(pcos_df['BP _Diastolic (mmHg)'].describe())\n",
    "sns.boxplot(pcos_df['BP _Diastolic (mmHg)'])"
   ]
  },
  {
   "cell_type": "code",
   "execution_count": 32,
   "metadata": {
    "colab": {
     "base_uri": "https://localhost:8080/",
     "height": 698
    },
    "id": "cfHwmM6YX5lc",
    "outputId": "323b8f15-902e-420b-a432-a4a8472f4ea4"
   },
   "outputs": [
    {
     "name": "stdout",
     "output_type": "stream",
     "text": [
      "count    540.000000\n",
      "mean       6.122222\n",
      "std        4.229925\n",
      "min        0.000000\n",
      "25%        3.000000\n",
      "50%        5.000000\n",
      "75%        9.000000\n",
      "max       22.000000\n",
      "Name: Follicle No. (L), dtype: float64\n",
      "count    540.000000\n",
      "mean       6.625926\n",
      "std        4.426358\n",
      "min        0.000000\n",
      "25%        3.000000\n",
      "50%        6.000000\n",
      "75%       10.000000\n",
      "max       20.000000\n",
      "Name: Follicle No. (R), dtype: float64\n"
     ]
    },
    {
     "data": {
      "text/plain": [
       "<Axes: >"
      ]
     },
     "execution_count": 32,
     "metadata": {},
     "output_type": "execute_result"
    },
    {
     "data": {
      "image/png": "[encoded data removed]",
      "text/plain": [
       "<Figure size 640x480 with 1 Axes>"
      ]
     },
     "metadata": {},
     "output_type": "display_data"
    }
   ],
   "source": [
    "\n",
    "#'Follicle No. (L)', \n",
    "print(pcos_df['Follicle No. (L)'].describe())\n",
    "sns.boxplot(pcos_df['Follicle No. (L)'])\n",
    "\n",
    "#'Follicle No. (R)'\n",
    "print(pcos_df['Follicle No. (R)'].describe())\n",
    "sns.boxplot(pcos_df['Follicle No. (R)'])\n",
    "\n"
   ]
  },
  {
   "cell_type": "code",
   "execution_count": 33,
   "metadata": {
    "colab": {
     "base_uri": "https://localhost:8080/",
     "height": 557
    },
    "id": "yiKyEwaoZsO9",
    "outputId": "f1b07f95-c9ea-4849-deb2-f5d680a2a8bc"
   },
   "outputs": [
    {
     "data": {
      "text/html": [
       "<div>\n",
       "<style scoped>\n",
       "    .dataframe tbody tr th:only-of-type {\n",
       "        vertical-align: middle;\n",
       "    }\n",
       "\n",
       "    .dataframe tbody tr th {\n",
       "        vertical-align: top;\n",
       "    }\n",
       "\n",
       "    .dataframe thead th {\n",
       "        text-align: right;\n",
       "    }\n",
       "</style>\n",
       "<table border=\"1\" class=\"dataframe\">\n",
       "  <thead>\n",
       "    <tr style=\"text-align: right;\">\n",
       "      <th></th>\n",
       "      <th>Unnamed: 0</th>\n",
       "      <th>Sl. No</th>\n",
       "      <th>Patient File No.</th>\n",
       "      <th>PCOS (Y/N)</th>\n",
       "      <th>Age (yrs)</th>\n",
       "      <th>Weight (Kg)</th>\n",
       "      <th>Height(Cm)</th>\n",
       "      <th>BMI</th>\n",
       "      <th>Blood Group</th>\n",
       "      <th>Pulse rate(bpm)</th>\n",
       "      <th>...</th>\n",
       "      <th>Pimples(Y/N)</th>\n",
       "      <th>Fast food (Y/N)</th>\n",
       "      <th>Reg.Exercise(Y/N)</th>\n",
       "      <th>BP _Systolic (mmHg)</th>\n",
       "      <th>BP _Diastolic (mmHg)</th>\n",
       "      <th>Follicle No. (L)</th>\n",
       "      <th>Follicle No. (R)</th>\n",
       "      <th>Avg. F size (L) (mm)</th>\n",
       "      <th>Avg. F size (R) (mm)</th>\n",
       "      <th>Endometrium (mm)</th>\n",
       "    </tr>\n",
       "  </thead>\n",
       "  <tbody>\n",
       "    <tr>\n",
       "      <th>103</th>\n",
       "      <td>103</td>\n",
       "      <td>104</td>\n",
       "      <td>104</td>\n",
       "      <td>0</td>\n",
       "      <td>34</td>\n",
       "      <td>57.0</td>\n",
       "      <td>160.000</td>\n",
       "      <td>22.3</td>\n",
       "      <td>15</td>\n",
       "      <td>72</td>\n",
       "      <td>...</td>\n",
       "      <td>0</td>\n",
       "      <td>0.0</td>\n",
       "      <td>0</td>\n",
       "      <td>120</td>\n",
       "      <td>80</td>\n",
       "      <td>1</td>\n",
       "      <td>0</td>\n",
       "      <td>14.0</td>\n",
       "      <td>0.0</td>\n",
       "      <td>7.0</td>\n",
       "    </tr>\n",
       "    <tr>\n",
       "      <th>127</th>\n",
       "      <td>127</td>\n",
       "      <td>128</td>\n",
       "      <td>128</td>\n",
       "      <td>0</td>\n",
       "      <td>42</td>\n",
       "      <td>48.0</td>\n",
       "      <td>148.000</td>\n",
       "      <td>21.9</td>\n",
       "      <td>11</td>\n",
       "      <td>72</td>\n",
       "      <td>...</td>\n",
       "      <td>0</td>\n",
       "      <td>0.0</td>\n",
       "      <td>0</td>\n",
       "      <td>110</td>\n",
       "      <td>70</td>\n",
       "      <td>1</td>\n",
       "      <td>0</td>\n",
       "      <td>17.0</td>\n",
       "      <td>15.0</td>\n",
       "      <td>9.0</td>\n",
       "    </tr>\n",
       "    <tr>\n",
       "      <th>261</th>\n",
       "      <td>261</td>\n",
       "      <td>262</td>\n",
       "      <td>262</td>\n",
       "      <td>0</td>\n",
       "      <td>32</td>\n",
       "      <td>35.0</td>\n",
       "      <td>150.000</td>\n",
       "      <td>15.6</td>\n",
       "      <td>11</td>\n",
       "      <td>70</td>\n",
       "      <td>...</td>\n",
       "      <td>0</td>\n",
       "      <td>1.0</td>\n",
       "      <td>0</td>\n",
       "      <td>110</td>\n",
       "      <td>80</td>\n",
       "      <td>1</td>\n",
       "      <td>0</td>\n",
       "      <td>19.0</td>\n",
       "      <td>20.0</td>\n",
       "      <td>10.0</td>\n",
       "    </tr>\n",
       "    <tr>\n",
       "      <th>288</th>\n",
       "      <td>288</td>\n",
       "      <td>289</td>\n",
       "      <td>289</td>\n",
       "      <td>0</td>\n",
       "      <td>35</td>\n",
       "      <td>66.0</td>\n",
       "      <td>155.000</td>\n",
       "      <td>27.5</td>\n",
       "      <td>15</td>\n",
       "      <td>78</td>\n",
       "      <td>...</td>\n",
       "      <td>0</td>\n",
       "      <td>1.0</td>\n",
       "      <td>0</td>\n",
       "      <td>110</td>\n",
       "      <td>80</td>\n",
       "      <td>1</td>\n",
       "      <td>0</td>\n",
       "      <td>15.0</td>\n",
       "      <td>18.0</td>\n",
       "      <td>7.7</td>\n",
       "    </tr>\n",
       "    <tr>\n",
       "      <th>298</th>\n",
       "      <td>298</td>\n",
       "      <td>299</td>\n",
       "      <td>299</td>\n",
       "      <td>0</td>\n",
       "      <td>34</td>\n",
       "      <td>67.0</td>\n",
       "      <td>152.000</td>\n",
       "      <td>29.0</td>\n",
       "      <td>15</td>\n",
       "      <td>74</td>\n",
       "      <td>...</td>\n",
       "      <td>1</td>\n",
       "      <td>1.0</td>\n",
       "      <td>0</td>\n",
       "      <td>120</td>\n",
       "      <td>70</td>\n",
       "      <td>1</td>\n",
       "      <td>0</td>\n",
       "      <td>16.0</td>\n",
       "      <td>12.0</td>\n",
       "      <td>7.7</td>\n",
       "    </tr>\n",
       "    <tr>\n",
       "      <th>299</th>\n",
       "      <td>299</td>\n",
       "      <td>300</td>\n",
       "      <td>300</td>\n",
       "      <td>0</td>\n",
       "      <td>26</td>\n",
       "      <td>50.0</td>\n",
       "      <td>152.000</td>\n",
       "      <td>21.6</td>\n",
       "      <td>11</td>\n",
       "      <td>72</td>\n",
       "      <td>...</td>\n",
       "      <td>0</td>\n",
       "      <td>1.0</td>\n",
       "      <td>1</td>\n",
       "      <td>120</td>\n",
       "      <td>80</td>\n",
       "      <td>1</td>\n",
       "      <td>0</td>\n",
       "      <td>15.0</td>\n",
       "      <td>18.0</td>\n",
       "      <td>11.0</td>\n",
       "    </tr>\n",
       "    <tr>\n",
       "      <th>409</th>\n",
       "      <td>409</td>\n",
       "      <td>410</td>\n",
       "      <td>410</td>\n",
       "      <td>0</td>\n",
       "      <td>40</td>\n",
       "      <td>60.0</td>\n",
       "      <td>161.000</td>\n",
       "      <td>23.1</td>\n",
       "      <td>13</td>\n",
       "      <td>74</td>\n",
       "      <td>...</td>\n",
       "      <td>1</td>\n",
       "      <td>0.0</td>\n",
       "      <td>0</td>\n",
       "      <td>110</td>\n",
       "      <td>70</td>\n",
       "      <td>3</td>\n",
       "      <td>0</td>\n",
       "      <td>10.0</td>\n",
       "      <td>11.0</td>\n",
       "      <td>4.0</td>\n",
       "    </tr>\n",
       "    <tr>\n",
       "      <th>528</th>\n",
       "      <td>528</td>\n",
       "      <td>529</td>\n",
       "      <td>529</td>\n",
       "      <td>0</td>\n",
       "      <td>41</td>\n",
       "      <td>58.0</td>\n",
       "      <td>146.304</td>\n",
       "      <td>27.1</td>\n",
       "      <td>13</td>\n",
       "      <td>72</td>\n",
       "      <td>...</td>\n",
       "      <td>0</td>\n",
       "      <td>1.0</td>\n",
       "      <td>0</td>\n",
       "      <td>120</td>\n",
       "      <td>80</td>\n",
       "      <td>1</td>\n",
       "      <td>0</td>\n",
       "      <td>19.0</td>\n",
       "      <td>14.0</td>\n",
       "      <td>9.7</td>\n",
       "    </tr>\n",
       "    <tr>\n",
       "      <th>531</th>\n",
       "      <td>531</td>\n",
       "      <td>532</td>\n",
       "      <td>532</td>\n",
       "      <td>0</td>\n",
       "      <td>34</td>\n",
       "      <td>70.0</td>\n",
       "      <td>164.000</td>\n",
       "      <td>26.0</td>\n",
       "      <td>11</td>\n",
       "      <td>72</td>\n",
       "      <td>...</td>\n",
       "      <td>0</td>\n",
       "      <td>0.0</td>\n",
       "      <td>0</td>\n",
       "      <td>120</td>\n",
       "      <td>70</td>\n",
       "      <td>2</td>\n",
       "      <td>0</td>\n",
       "      <td>21.0</td>\n",
       "      <td>16.0</td>\n",
       "      <td>8.5</td>\n",
       "    </tr>\n",
       "    <tr>\n",
       "      <th>536</th>\n",
       "      <td>536</td>\n",
       "      <td>537</td>\n",
       "      <td>537</td>\n",
       "      <td>0</td>\n",
       "      <td>35</td>\n",
       "      <td>50.0</td>\n",
       "      <td>164.592</td>\n",
       "      <td>18.5</td>\n",
       "      <td>17</td>\n",
       "      <td>72</td>\n",
       "      <td>...</td>\n",
       "      <td>0</td>\n",
       "      <td>0.0</td>\n",
       "      <td>0</td>\n",
       "      <td>110</td>\n",
       "      <td>70</td>\n",
       "      <td>1</td>\n",
       "      <td>0</td>\n",
       "      <td>17.5</td>\n",
       "      <td>10.0</td>\n",
       "      <td>6.7</td>\n",
       "    </tr>\n",
       "    <tr>\n",
       "      <th>538</th>\n",
       "      <td>538</td>\n",
       "      <td>539</td>\n",
       "      <td>539</td>\n",
       "      <td>0</td>\n",
       "      <td>36</td>\n",
       "      <td>54.0</td>\n",
       "      <td>152.000</td>\n",
       "      <td>23.4</td>\n",
       "      <td>13</td>\n",
       "      <td>74</td>\n",
       "      <td>...</td>\n",
       "      <td>0</td>\n",
       "      <td>0.0</td>\n",
       "      <td>0</td>\n",
       "      <td>110</td>\n",
       "      <td>80</td>\n",
       "      <td>1</td>\n",
       "      <td>0</td>\n",
       "      <td>18.0</td>\n",
       "      <td>9.0</td>\n",
       "      <td>7.3</td>\n",
       "    </tr>\n",
       "  </tbody>\n",
       "</table>\n",
       "<p>11 rows × 45 columns</p>\n",
       "</div>"
      ],
      "text/plain": [
       "     Unnamed: 0  Sl. No  Patient File No.  PCOS (Y/N)   Age (yrs)  \\\n",
       "103         103     104               104           0          34   \n",
       "127         127     128               128           0          42   \n",
       "261         261     262               262           0          32   \n",
       "288         288     289               289           0          35   \n",
       "298         298     299               299           0          34   \n",
       "299         299     300               300           0          26   \n",
       "409         409     410               410           0          40   \n",
       "528         528     529               529           0          41   \n",
       "531         531     532               532           0          34   \n",
       "536         536     537               537           0          35   \n",
       "538         538     539               539           0          36   \n",
       "\n",
       "     Weight (Kg)  Height(Cm)    BMI  Blood Group  Pulse rate(bpm)   ...  \\\n",
       "103         57.0      160.000  22.3           15                72  ...   \n",
       "127         48.0      148.000  21.9           11                72  ...   \n",
       "261         35.0      150.000  15.6           11                70  ...   \n",
       "288         66.0      155.000  27.5           15                78  ...   \n",
       "298         67.0      152.000  29.0           15                74  ...   \n",
       "299         50.0      152.000  21.6           11                72  ...   \n",
       "409         60.0      161.000  23.1           13                74  ...   \n",
       "528         58.0      146.304  27.1           13                72  ...   \n",
       "531         70.0      164.000  26.0           11                72  ...   \n",
       "536         50.0      164.592  18.5           17                72  ...   \n",
       "538         54.0      152.000  23.4           13                74  ...   \n",
       "\n",
       "     Pimples(Y/N)  Fast food (Y/N)  Reg.Exercise(Y/N)  BP _Systolic (mmHg)  \\\n",
       "103             0              0.0                  0                  120   \n",
       "127             0              0.0                  0                  110   \n",
       "261             0              1.0                  0                  110   \n",
       "288             0              1.0                  0                  110   \n",
       "298             1              1.0                  0                  120   \n",
       "299             0              1.0                  1                  120   \n",
       "409             1              0.0                  0                  110   \n",
       "528             0              1.0                  0                  120   \n",
       "531             0              0.0                  0                  120   \n",
       "536             0              0.0                  0                  110   \n",
       "538             0              0.0                  0                  110   \n",
       "\n",
       "     BP _Diastolic (mmHg)  Follicle No. (L)  Follicle No. (R)  \\\n",
       "103                    80                 1                 0   \n",
       "127                    70                 1                 0   \n",
       "261                    80                 1                 0   \n",
       "288                    80                 1                 0   \n",
       "298                    70                 1                 0   \n",
       "299                    80                 1                 0   \n",
       "409                    70                 3                 0   \n",
       "528                    80                 1                 0   \n",
       "531                    70                 2                 0   \n",
       "536                    70                 1                 0   \n",
       "538                    80                 1                 0   \n",
       "\n",
       "     Avg. F size (L) (mm)  Avg. F size (R) (mm)  Endometrium (mm)  \n",
       "103                  14.0                   0.0               7.0  \n",
       "127                  17.0                  15.0               9.0  \n",
       "261                  19.0                  20.0              10.0  \n",
       "288                  15.0                  18.0               7.7  \n",
       "298                  16.0                  12.0               7.7  \n",
       "299                  15.0                  18.0              11.0  \n",
       "409                  10.0                  11.0               4.0  \n",
       "528                  19.0                  14.0               9.7  \n",
       "531                  21.0                  16.0               8.5  \n",
       "536                  17.5                  10.0               6.7  \n",
       "538                  18.0                   9.0               7.3  \n",
       "\n",
       "[11 rows x 45 columns]"
      ]
     },
     "execution_count": 33,
     "metadata": {},
     "output_type": "execute_result"
    }
   ],
   "source": [
    "pcos_df.loc[pcos_df['Follicle No. (R)'] == 0]"
   ]
  },
  {
   "cell_type": "code",
   "execution_count": 34,
   "metadata": {
    "colab": {
     "base_uri": "https://localhost:8080/",
     "height": 698
    },
    "id": "Ax6R71PFY3X8",
    "outputId": "3cc1470e-b66d-419b-d434-31715f64825a"
   },
   "outputs": [
    {
     "name": "stdout",
     "output_type": "stream",
     "text": [
      "count    540.000000\n",
      "mean      15.018148\n",
      "std        3.570146\n",
      "min        0.000000\n",
      "25%       13.000000\n",
      "50%       15.000000\n",
      "75%       18.000000\n",
      "max       24.000000\n",
      "Name: Avg. F size (L) (mm), dtype: float64\n",
      "count    540.000000\n",
      "mean      15.448833\n",
      "std        3.321255\n",
      "min        0.000000\n",
      "25%       13.000000\n",
      "50%       16.000000\n",
      "75%       18.000000\n",
      "max       24.000000\n",
      "Name: Avg. F size (R) (mm), dtype: float64\n"
     ]
    },
    {
     "data": {
      "text/plain": [
       "<Axes: >"
      ]
     },
     "execution_count": 34,
     "metadata": {},
     "output_type": "execute_result"
    },
    {
     "data": {
      "image/png": "[encoded data removed]",
      "text/plain": [
       "<Figure size 640x480 with 1 Axes>"
      ]
     },
     "metadata": {},
     "output_type": "display_data"
    }
   ],
   "source": [
    "#'Avg. F size (L) (mm)'\n",
    "\n",
    "print(pcos_df['Avg. F size (L) (mm)'].describe())\n",
    "sns.boxplot(pcos_df['Avg. F size (L) (mm)'])\n",
    "#'Avg. F size (R) (mm)'\n",
    "print(pcos_df['Avg. F size (R) (mm)'].describe())\n",
    "sns.boxplot(pcos_df['Avg. F size (R) (mm)'])\n",
    "\n"
   ]
  },
  {
   "cell_type": "code",
   "execution_count": 35,
   "metadata": {
    "colab": {
     "base_uri": "https://localhost:8080/",
     "height": 507
    },
    "id": "nCKb3oTicO3c",
    "outputId": "d7f73ad7-2333-420f-cf9e-367f551a1f05"
   },
   "outputs": [
    {
     "name": "stdout",
     "output_type": "stream",
     "text": [
      "count    540.000000\n",
      "mean       8.483648\n",
      "std        2.141611\n",
      "min        2.000000\n",
      "25%        7.000000\n",
      "50%        8.500000\n",
      "75%        9.800000\n",
      "max       18.000000\n",
      "Name: Endometrium (mm), dtype: float64\n"
     ]
    },
    {
     "data": {
      "text/plain": [
       "<Axes: >"
      ]
     },
     "execution_count": 35,
     "metadata": {},
     "output_type": "execute_result"
    },
    {
     "data": {
      "image/png": "[encoded data removed]",
      "text/plain": [
       "<Figure size 640x480 with 1 Axes>"
      ]
     },
     "metadata": {},
     "output_type": "display_data"
    }
   ],
   "source": [
    "#Endometrium (mm) :The layer of tissue that lines the uterus.\n",
    "pcos_df['Endometrium (mm)'].mask(pcos_df['Endometrium (mm)'] < 2 ,2 , inplace=True)\n",
    "print(pcos_df['Endometrium (mm)'].describe())\n",
    "sns.boxplot(pcos_df['Endometrium (mm)'])"
   ]
  },
  {
   "cell_type": "code",
   "execution_count": 36,
   "metadata": {
    "id": "Vu90dHggHokC"
   },
   "outputs": [],
   "source": [
    "#Function to determine outliers\n",
    "def outlier_thresholds(dataframe, variable):\n",
    "    quartile1 = dataframe[variable].quantile(0.05)\n",
    "    quartile3 = dataframe[variable].quantile(0.95)\n",
    "    interquantile_range = quartile3 - quartile1\n",
    "    up_limit = quartile3 + 1.5 * interquantile_range\n",
    "    low_limit = quartile1 - 1.5 * interquantile_range\n",
    "    return low_limit, up_limit\n",
    "\n",
    "def outliers(dataframe, num_col_names, plot=False):\n",
    "    variable_names = []\n",
    "    for col in num_col_names:\n",
    "        low_limit, up_limit = outlier_thresholds(dataframe, col)\n",
    "        if dataframe[(dataframe[col] > up_limit) | (dataframe[col] < low_limit)].any(axis=None):\n",
    "            number_of_outliers = dataframe[(dataframe[col] > up_limit) | (dataframe[col] < low_limit)].shape[0]\n",
    "            print(col, \":\", number_of_outliers)\n",
    "            \n",
    "            \n",
    "    return variable_names"
   ]
  },
  {
   "cell_type": "code",
   "execution_count": 37,
   "metadata": {
    "colab": {
     "base_uri": "https://localhost:8080/"
    },
    "id": "DZwRcO9SHrXD",
    "outputId": "323316b3-5bf0-4710-9c3b-34fa061b9202"
   },
   "outputs": [
    {
     "name": "stdout",
     "output_type": "stream",
     "text": [
      "  I   beta-HCG(mIU/mL) : 14\n",
      "II    beta-HCG(mIU/mL) : 7\n",
      "FSH(mIU/mL) : 3\n",
      "FSH/LH : 8\n",
      "TSH (mIU/L) : 9\n",
      "PRL(ng/mL) : 2\n",
      "PRG(ng/mL) : 5\n",
      "RBS(mg/dl) : 2\n",
      "BP _Systolic (mmHg) : 2\n",
      "BP _Diastolic (mmHg) : 1\n"
     ]
    }
   ],
   "source": [
    "outliers(pcos_df,pcos_df.columns).sort(reverse=True)"
   ]
  },
  {
   "cell_type": "code",
   "execution_count": 38,
   "metadata": {
    "id": "aebHafFIJcef"
   },
   "outputs": [],
   "source": [
    "def find_outliers_IQR(df):\n",
    "\n",
    "   q1=df.quantile(0.25)\n",
    "\n",
    "   q3=df.quantile(0.75)\n",
    "\n",
    "   IQR=q3-q1\n",
    "\n",
    "   outliers_detect = pcos_df[((pcos_df<(q1-1.5*IQR)) | (pcos_df>(q3+1.5*IQR)))]\n",
    "\n",
    "   return outliers"
   ]
  },
  {
   "cell_type": "code",
   "execution_count": null,
   "metadata": {
    "id": "T3K8dY2OLXRS"
   },
   "outputs": [],
   "source": []
  },
  {
   "cell_type": "code",
   "execution_count": 39,
   "metadata": {
    "colab": {
     "base_uri": "https://localhost:8080/",
     "height": 424
    },
    "id": "w1vqtaTpL5eH",
    "outputId": "2d77d30c-e0c1-4eba-d382-dfb0c62fa265"
   },
   "outputs": [
    {
     "data": {
      "text/html": [
       "<div>\n",
       "<style scoped>\n",
       "    .dataframe tbody tr th:only-of-type {\n",
       "        vertical-align: middle;\n",
       "    }\n",
       "\n",
       "    .dataframe tbody tr th {\n",
       "        vertical-align: top;\n",
       "    }\n",
       "\n",
       "    .dataframe thead th {\n",
       "        text-align: right;\n",
       "    }\n",
       "</style>\n",
       "<table border=\"1\" class=\"dataframe\">\n",
       "  <thead>\n",
       "    <tr style=\"text-align: right;\">\n",
       "      <th></th>\n",
       "      <th>FSH(mIU/mL)</th>\n",
       "      <th>LH(mIU/mL)</th>\n",
       "      <th>FSH/LH</th>\n",
       "    </tr>\n",
       "  </thead>\n",
       "  <tbody>\n",
       "    <tr>\n",
       "      <th>0</th>\n",
       "      <td>7.95</td>\n",
       "      <td>3.68</td>\n",
       "      <td>2.160326</td>\n",
       "    </tr>\n",
       "    <tr>\n",
       "      <th>1</th>\n",
       "      <td>6.73</td>\n",
       "      <td>1.09</td>\n",
       "      <td>6.174312</td>\n",
       "    </tr>\n",
       "    <tr>\n",
       "      <th>2</th>\n",
       "      <td>5.54</td>\n",
       "      <td>0.88</td>\n",
       "      <td>6.295455</td>\n",
       "    </tr>\n",
       "    <tr>\n",
       "      <th>3</th>\n",
       "      <td>8.06</td>\n",
       "      <td>2.36</td>\n",
       "      <td>3.415254</td>\n",
       "    </tr>\n",
       "    <tr>\n",
       "      <th>4</th>\n",
       "      <td>3.98</td>\n",
       "      <td>0.90</td>\n",
       "      <td>4.422222</td>\n",
       "    </tr>\n",
       "    <tr>\n",
       "      <th>...</th>\n",
       "      <td>...</td>\n",
       "      <td>...</td>\n",
       "      <td>...</td>\n",
       "    </tr>\n",
       "    <tr>\n",
       "      <th>536</th>\n",
       "      <td>10.06</td>\n",
       "      <td>1.81</td>\n",
       "      <td>5.558011</td>\n",
       "    </tr>\n",
       "    <tr>\n",
       "      <th>537</th>\n",
       "      <td>5.07</td>\n",
       "      <td>2.84</td>\n",
       "      <td>1.785211</td>\n",
       "    </tr>\n",
       "    <tr>\n",
       "      <th>538</th>\n",
       "      <td>11.96</td>\n",
       "      <td>2.78</td>\n",
       "      <td>4.302158</td>\n",
       "    </tr>\n",
       "    <tr>\n",
       "      <th>539</th>\n",
       "      <td>4.40</td>\n",
       "      <td>4.33</td>\n",
       "      <td>1.016166</td>\n",
       "    </tr>\n",
       "    <tr>\n",
       "      <th>540</th>\n",
       "      <td>3.99</td>\n",
       "      <td>4.30</td>\n",
       "      <td>0.927907</td>\n",
       "    </tr>\n",
       "  </tbody>\n",
       "</table>\n",
       "<p>540 rows × 3 columns</p>\n",
       "</div>"
      ],
      "text/plain": [
       "     FSH(mIU/mL)  LH(mIU/mL)    FSH/LH\n",
       "0           7.95        3.68  2.160326\n",
       "1           6.73        1.09  6.174312\n",
       "2           5.54        0.88  6.295455\n",
       "3           8.06        2.36  3.415254\n",
       "4           3.98        0.90  4.422222\n",
       "..           ...         ...       ...\n",
       "536        10.06        1.81  5.558011\n",
       "537         5.07        2.84  1.785211\n",
       "538        11.96        2.78  4.302158\n",
       "539         4.40        4.33  1.016166\n",
       "540         3.99        4.30  0.927907\n",
       "\n",
       "[540 rows x 3 columns]"
      ]
     },
     "execution_count": 39,
     "metadata": {},
     "output_type": "execute_result"
    }
   ],
   "source": [
    "pcos_df[['FSH(mIU/mL)','LH(mIU/mL)','FSH/LH']]"
   ]
  },
  {
   "cell_type": "code",
   "execution_count": 40,
   "metadata": {
    "id": "jzY_AVOzLYkO"
   },
   "outputs": [],
   "source": [
    "pcos_df.to_csv('data/pcos_cleaned.csv', index=False)"
   ]
  },
  {
   "cell_type": "code",
   "execution_count": null,
   "metadata": {
    "id": "D8AYtnc0NuYg"
   },
   "outputs": [],
   "source": []
  },
  {
   "cell_type": "code",
   "execution_count": 41,
   "metadata": {
    "colab": {
     "base_uri": "https://localhost:8080/",
     "height": 428
    },
    "id": "bJ-FwesxLk3p",
    "outputId": "cd87e7e3-cbcb-41b8-d39b-72b37969f01f"
   },
   "outputs": [
    {
     "data": {
      "text/html": [
       "<div>\n",
       "<style scoped>\n",
       "    .dataframe tbody tr th:only-of-type {\n",
       "        vertical-align: middle;\n",
       "    }\n",
       "\n",
       "    .dataframe tbody tr th {\n",
       "        vertical-align: top;\n",
       "    }\n",
       "\n",
       "    .dataframe thead th {\n",
       "        text-align: right;\n",
       "    }\n",
       "</style>\n",
       "<table border=\"1\" class=\"dataframe\">\n",
       "  <thead>\n",
       "    <tr style=\"text-align: right;\">\n",
       "      <th></th>\n",
       "      <th>Unnamed: 0</th>\n",
       "      <th>Sl. No</th>\n",
       "      <th>Patient File No.</th>\n",
       "      <th>PCOS (Y/N)</th>\n",
       "      <th>Age (yrs)</th>\n",
       "      <th>Weight (Kg)</th>\n",
       "      <th>Height(Cm)</th>\n",
       "      <th>BMI</th>\n",
       "      <th>Blood Group</th>\n",
       "      <th>Pulse rate(bpm)</th>\n",
       "      <th>...</th>\n",
       "      <th>Pimples(Y/N)</th>\n",
       "      <th>Fast food (Y/N)</th>\n",
       "      <th>Reg.Exercise(Y/N)</th>\n",
       "      <th>BP _Systolic (mmHg)</th>\n",
       "      <th>BP _Diastolic (mmHg)</th>\n",
       "      <th>Follicle No. (L)</th>\n",
       "      <th>Follicle No. (R)</th>\n",
       "      <th>Avg. F size (L) (mm)</th>\n",
       "      <th>Avg. F size (R) (mm)</th>\n",
       "      <th>Endometrium (mm)</th>\n",
       "    </tr>\n",
       "  </thead>\n",
       "  <tbody>\n",
       "    <tr>\n",
       "      <th>count</th>\n",
       "      <td>540.000000</td>\n",
       "      <td>540.000000</td>\n",
       "      <td>540.000000</td>\n",
       "      <td>540.000000</td>\n",
       "      <td>540.000000</td>\n",
       "      <td>540.000000</td>\n",
       "      <td>540.000000</td>\n",
       "      <td>540.000000</td>\n",
       "      <td>540.000000</td>\n",
       "      <td>540.000000</td>\n",
       "      <td>...</td>\n",
       "      <td>540.000000</td>\n",
       "      <td>540.000000</td>\n",
       "      <td>540.000000</td>\n",
       "      <td>540.000000</td>\n",
       "      <td>540.000000</td>\n",
       "      <td>540.000000</td>\n",
       "      <td>540.000000</td>\n",
       "      <td>540.000000</td>\n",
       "      <td>540.000000</td>\n",
       "      <td>540.000000</td>\n",
       "    </tr>\n",
       "    <tr>\n",
       "      <th>mean</th>\n",
       "      <td>270.037037</td>\n",
       "      <td>271.037037</td>\n",
       "      <td>271.037037</td>\n",
       "      <td>0.325926</td>\n",
       "      <td>31.405556</td>\n",
       "      <td>59.590185</td>\n",
       "      <td>156.491289</td>\n",
       "      <td>24.285370</td>\n",
       "      <td>13.800000</td>\n",
       "      <td>73.459259</td>\n",
       "      <td>...</td>\n",
       "      <td>0.488889</td>\n",
       "      <td>0.514815</td>\n",
       "      <td>0.248148</td>\n",
       "      <td>114.833333</td>\n",
       "      <td>77.055556</td>\n",
       "      <td>6.122222</td>\n",
       "      <td>6.625926</td>\n",
       "      <td>15.018148</td>\n",
       "      <td>15.448833</td>\n",
       "      <td>8.483648</td>\n",
       "    </tr>\n",
       "    <tr>\n",
       "      <th>std</th>\n",
       "      <td>156.460083</td>\n",
       "      <td>156.460083</td>\n",
       "      <td>156.460083</td>\n",
       "      <td>0.469154</td>\n",
       "      <td>5.384335</td>\n",
       "      <td>10.984220</td>\n",
       "      <td>6.037270</td>\n",
       "      <td>4.025824</td>\n",
       "      <td>1.841795</td>\n",
       "      <td>2.687877</td>\n",
       "      <td>...</td>\n",
       "      <td>0.500340</td>\n",
       "      <td>0.500244</td>\n",
       "      <td>0.432339</td>\n",
       "      <td>5.919215</td>\n",
       "      <td>4.722019</td>\n",
       "      <td>4.229925</td>\n",
       "      <td>4.426358</td>\n",
       "      <td>3.570146</td>\n",
       "      <td>3.321255</td>\n",
       "      <td>2.141611</td>\n",
       "    </tr>\n",
       "    <tr>\n",
       "      <th>min</th>\n",
       "      <td>0.000000</td>\n",
       "      <td>1.000000</td>\n",
       "      <td>1.000000</td>\n",
       "      <td>0.000000</td>\n",
       "      <td>20.000000</td>\n",
       "      <td>31.000000</td>\n",
       "      <td>137.000000</td>\n",
       "      <td>12.400000</td>\n",
       "      <td>11.000000</td>\n",
       "      <td>70.000000</td>\n",
       "      <td>...</td>\n",
       "      <td>0.000000</td>\n",
       "      <td>0.000000</td>\n",
       "      <td>0.000000</td>\n",
       "      <td>100.000000</td>\n",
       "      <td>60.000000</td>\n",
       "      <td>0.000000</td>\n",
       "      <td>0.000000</td>\n",
       "      <td>0.000000</td>\n",
       "      <td>0.000000</td>\n",
       "      <td>2.000000</td>\n",
       "    </tr>\n",
       "    <tr>\n",
       "      <th>25%</th>\n",
       "      <td>134.750000</td>\n",
       "      <td>135.750000</td>\n",
       "      <td>135.750000</td>\n",
       "      <td>0.000000</td>\n",
       "      <td>27.750000</td>\n",
       "      <td>52.000000</td>\n",
       "      <td>152.000000</td>\n",
       "      <td>21.600000</td>\n",
       "      <td>13.000000</td>\n",
       "      <td>72.000000</td>\n",
       "      <td>...</td>\n",
       "      <td>0.000000</td>\n",
       "      <td>0.000000</td>\n",
       "      <td>0.000000</td>\n",
       "      <td>110.000000</td>\n",
       "      <td>70.000000</td>\n",
       "      <td>3.000000</td>\n",
       "      <td>3.000000</td>\n",
       "      <td>13.000000</td>\n",
       "      <td>13.000000</td>\n",
       "      <td>7.000000</td>\n",
       "    </tr>\n",
       "    <tr>\n",
       "      <th>50%</th>\n",
       "      <td>270.500000</td>\n",
       "      <td>271.500000</td>\n",
       "      <td>271.500000</td>\n",
       "      <td>0.000000</td>\n",
       "      <td>31.000000</td>\n",
       "      <td>59.000000</td>\n",
       "      <td>156.000000</td>\n",
       "      <td>24.200000</td>\n",
       "      <td>14.000000</td>\n",
       "      <td>72.000000</td>\n",
       "      <td>...</td>\n",
       "      <td>0.000000</td>\n",
       "      <td>1.000000</td>\n",
       "      <td>0.000000</td>\n",
       "      <td>110.000000</td>\n",
       "      <td>80.000000</td>\n",
       "      <td>5.000000</td>\n",
       "      <td>6.000000</td>\n",
       "      <td>15.000000</td>\n",
       "      <td>16.000000</td>\n",
       "      <td>8.500000</td>\n",
       "    </tr>\n",
       "    <tr>\n",
       "      <th>75%</th>\n",
       "      <td>405.250000</td>\n",
       "      <td>406.250000</td>\n",
       "      <td>406.250000</td>\n",
       "      <td>1.000000</td>\n",
       "      <td>35.000000</td>\n",
       "      <td>65.000000</td>\n",
       "      <td>160.000000</td>\n",
       "      <td>26.600000</td>\n",
       "      <td>15.000000</td>\n",
       "      <td>74.000000</td>\n",
       "      <td>...</td>\n",
       "      <td>1.000000</td>\n",
       "      <td>1.000000</td>\n",
       "      <td>0.000000</td>\n",
       "      <td>120.000000</td>\n",
       "      <td>80.000000</td>\n",
       "      <td>9.000000</td>\n",
       "      <td>10.000000</td>\n",
       "      <td>18.000000</td>\n",
       "      <td>18.000000</td>\n",
       "      <td>9.800000</td>\n",
       "    </tr>\n",
       "    <tr>\n",
       "      <th>max</th>\n",
       "      <td>540.000000</td>\n",
       "      <td>541.000000</td>\n",
       "      <td>541.000000</td>\n",
       "      <td>1.000000</td>\n",
       "      <td>48.000000</td>\n",
       "      <td>108.000000</td>\n",
       "      <td>180.000000</td>\n",
       "      <td>38.900000</td>\n",
       "      <td>18.000000</td>\n",
       "      <td>82.000000</td>\n",
       "      <td>...</td>\n",
       "      <td>1.000000</td>\n",
       "      <td>1.000000</td>\n",
       "      <td>1.000000</td>\n",
       "      <td>140.000000</td>\n",
       "      <td>100.000000</td>\n",
       "      <td>22.000000</td>\n",
       "      <td>20.000000</td>\n",
       "      <td>24.000000</td>\n",
       "      <td>24.000000</td>\n",
       "      <td>18.000000</td>\n",
       "    </tr>\n",
       "  </tbody>\n",
       "</table>\n",
       "<p>8 rows × 45 columns</p>\n",
       "</div>"
      ],
      "text/plain": [
       "       Unnamed: 0      Sl. No  Patient File No.  PCOS (Y/N)   Age (yrs)  \\\n",
       "count  540.000000  540.000000        540.000000  540.000000  540.000000   \n",
       "mean   270.037037  271.037037        271.037037    0.325926   31.405556   \n",
       "std    156.460083  156.460083        156.460083    0.469154    5.384335   \n",
       "min      0.000000    1.000000          1.000000    0.000000   20.000000   \n",
       "25%    134.750000  135.750000        135.750000    0.000000   27.750000   \n",
       "50%    270.500000  271.500000        271.500000    0.000000   31.000000   \n",
       "75%    405.250000  406.250000        406.250000    1.000000   35.000000   \n",
       "max    540.000000  541.000000        541.000000    1.000000   48.000000   \n",
       "\n",
       "       Weight (Kg)  Height(Cm)          BMI  Blood Group  Pulse rate(bpm)   \\\n",
       "count   540.000000   540.000000  540.000000   540.000000        540.000000   \n",
       "mean     59.590185   156.491289   24.285370    13.800000         73.459259   \n",
       "std      10.984220     6.037270    4.025824     1.841795          2.687877   \n",
       "min      31.000000   137.000000   12.400000    11.000000         70.000000   \n",
       "25%      52.000000   152.000000   21.600000    13.000000         72.000000   \n",
       "50%      59.000000   156.000000   24.200000    14.000000         72.000000   \n",
       "75%      65.000000   160.000000   26.600000    15.000000         74.000000   \n",
       "max     108.000000   180.000000   38.900000    18.000000         82.000000   \n",
       "\n",
       "       ...  Pimples(Y/N)  Fast food (Y/N)  Reg.Exercise(Y/N)  \\\n",
       "count  ...    540.000000       540.000000         540.000000   \n",
       "mean   ...      0.488889         0.514815           0.248148   \n",
       "std    ...      0.500340         0.500244           0.432339   \n",
       "min    ...      0.000000         0.000000           0.000000   \n",
       "25%    ...      0.000000         0.000000           0.000000   \n",
       "50%    ...      0.000000         1.000000           0.000000   \n",
       "75%    ...      1.000000         1.000000           0.000000   \n",
       "max    ...      1.000000         1.000000           1.000000   \n",
       "\n",
       "       BP _Systolic (mmHg)  BP _Diastolic (mmHg)  Follicle No. (L)  \\\n",
       "count           540.000000            540.000000        540.000000   \n",
       "mean            114.833333             77.055556          6.122222   \n",
       "std               5.919215              4.722019          4.229925   \n",
       "min             100.000000             60.000000          0.000000   \n",
       "25%             110.000000             70.000000          3.000000   \n",
       "50%             110.000000             80.000000          5.000000   \n",
       "75%             120.000000             80.000000          9.000000   \n",
       "max             140.000000            100.000000         22.000000   \n",
       "\n",
       "       Follicle No. (R)  Avg. F size (L) (mm)  Avg. F size (R) (mm)  \\\n",
       "count        540.000000            540.000000            540.000000   \n",
       "mean           6.625926             15.018148             15.448833   \n",
       "std            4.426358              3.570146              3.321255   \n",
       "min            0.000000              0.000000              0.000000   \n",
       "25%            3.000000             13.000000             13.000000   \n",
       "50%            6.000000             15.000000             16.000000   \n",
       "75%           10.000000             18.000000             18.000000   \n",
       "max           20.000000             24.000000             24.000000   \n",
       "\n",
       "       Endometrium (mm)  \n",
       "count        540.000000  \n",
       "mean           8.483648  \n",
       "std            2.141611  \n",
       "min            2.000000  \n",
       "25%            7.000000  \n",
       "50%            8.500000  \n",
       "75%            9.800000  \n",
       "max           18.000000  \n",
       "\n",
       "[8 rows x 45 columns]"
      ]
     },
     "execution_count": 41,
     "metadata": {},
     "output_type": "execute_result"
    }
   ],
   "source": [
    "pcos_df.describe()\n"
   ]
  },
  {
   "cell_type": "code",
   "execution_count": null,
   "metadata": {},
   "outputs": [],
   "source": []
  },
  {
   "cell_type": "code",
   "execution_count": null,
   "metadata": {},
   "outputs": [],
   "source": []
  }
 ],
 "metadata": {
  "colab": {
   "provenance": []
  },
  "kernelspec": {
   "display_name": "Python 3 (ipykernel)",
   "language": "python",
   "name": "python3"
  },
  "language_info": {
   "codemirror_mode": {
    "name": "ipython",
    "version": 3
   },
   "file_extension": ".py",
   "mimetype": "text/x-python",
   "name": "python",
   "nbconvert_exporter": "python",
   "pygments_lexer": "ipython3",
   "version": "3.10.10"
  }
 },
 "nbformat": 4,
 "nbformat_minor": 1
}

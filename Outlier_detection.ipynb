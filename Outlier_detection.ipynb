{
  "nbformat": 4,
  "nbformat_minor": 0,
  "metadata": {
    "colab": {
      "provenance": []
    },
    "kernelspec": {
      "name": "python3",
      "display_name": "Python 3"
    },
    "language_info": {
      "name": "python"
    }
  },
  "cells": [
    {
      "cell_type": "code",
      "execution_count": null,
      "metadata": {
        "id": "rBFKIR0rv3A4"
      },
      "outputs": [],
      "source": [
        "import pandas as pd \n",
        "import numpy as np \n",
        "import matplotlib.pyplot as plt\n",
        "import seaborn as sns\n",
        "import openpyxl"
      ]
    },
    {
      "cell_type": "code",
      "source": [],
      "metadata": {
        "id": "BB3AXkhGHmDF"
      },
      "execution_count": null,
      "outputs": []
    },
    {
      "cell_type": "code",
      "source": [
        "# !gdown --id 1Yn7UH0nHtsrYOxqmiWxMFES-m3qP30b3\n",
        "!gdown --id 16mm_xBloBDejwuWRD_97HpYNPLFwb1EJ\n",
        "pcos_df = pd.read_csv(\"/content/pcos_cleaned.csv\")"
      ],
      "metadata": {
        "colab": {
          "base_uri": "https://localhost:8080/"
        },
        "id": "tdAlsxI7v7DS",
        "outputId": "9f8e9de9-d778-4fdf-b19a-c98ef96d5bb0"
      },
      "execution_count": null,
      "outputs": [
        {
          "output_type": "stream",
          "name": "stdout",
          "text": [
            "/usr/local/lib/python3.7/dist-packages/gdown/cli.py:131: FutureWarning: Option `--id` was deprecated in version 4.3.1 and will be removed in 5.0. You don't need to pass it anymore to use a file ID.\n",
            "  category=FutureWarning,\n",
            "Downloading...\n",
            "From: https://drive.google.com/uc?id=16mm_xBloBDejwuWRD_97HpYNPLFwb1EJ\n",
            "To: /content/pcos_cleaned.csv\n",
            "100% 77.3k/77.3k [00:00<00:00, 50.1MB/s]\n"
          ]
        }
      ]
    },
    {
      "cell_type": "code",
      "source": [
        "pcos_df.info()"
      ],
      "metadata": {
        "colab": {
          "base_uri": "https://localhost:8080/"
        },
        "id": "pHtH5-zsv_xQ",
        "outputId": "065dab41-05a6-43a8-e1d2-d2ca3ee3840e"
      },
      "execution_count": null,
      "outputs": [
        {
          "output_type": "stream",
          "name": "stdout",
          "text": [
            "<class 'pandas.core.frame.DataFrame'>\n",
            "RangeIndex: 541 entries, 0 to 540\n",
            "Data columns (total 42 columns):\n",
            " #   Column                  Non-Null Count  Dtype  \n",
            "---  ------                  --------------  -----  \n",
            " 0   PCOS (Y/N)              541 non-null    int64  \n",
            " 1    Age (yrs)              541 non-null    int64  \n",
            " 2   Weight (Kg)             541 non-null    float64\n",
            " 3   Height(Cm)              541 non-null    float64\n",
            " 4   BMI                     541 non-null    float64\n",
            " 5   Blood Group             541 non-null    int64  \n",
            " 6   Pulse rate(bpm)         541 non-null    int64  \n",
            " 7   RR (breaths/min)        541 non-null    int64  \n",
            " 8   Hb(g/dl)                541 non-null    float64\n",
            " 9   Cycle(R/I)              541 non-null    int64  \n",
            " 10  Cycle length(days)      541 non-null    int64  \n",
            " 11  Marraige Status (Yrs)   541 non-null    float64\n",
            " 12  Pregnant(Y/N)           541 non-null    int64  \n",
            " 13  No. of abortions        541 non-null    int64  \n",
            " 14    I   beta-HCG(mIU/mL)  541 non-null    float64\n",
            " 15  II    beta-HCG(mIU/mL)  541 non-null    float64\n",
            " 16  FSH(mIU/mL)             541 non-null    float64\n",
            " 17  LH(mIU/mL)              541 non-null    float64\n",
            " 18  FSH/LH                  541 non-null    float64\n",
            " 19  Hip(inch)               541 non-null    int64  \n",
            " 20  Waist(inch)             541 non-null    int64  \n",
            " 21  Waist:Hip Ratio         541 non-null    float64\n",
            " 22  TSH (mIU/L)             541 non-null    float64\n",
            " 23  AMH(ng/mL)              541 non-null    float64\n",
            " 24  PRL(ng/mL)              541 non-null    float64\n",
            " 25  Vit D3 (ng/mL)          541 non-null    float64\n",
            " 26  PRG(ng/mL)              541 non-null    float64\n",
            " 27  RBS(mg/dl)              541 non-null    float64\n",
            " 28  Weight gain(Y/N)        541 non-null    int64  \n",
            " 29  hair growth(Y/N)        541 non-null    int64  \n",
            " 30  Skin darkening (Y/N)    541 non-null    int64  \n",
            " 31  Hair loss(Y/N)          541 non-null    int64  \n",
            " 32  Pimples(Y/N)            541 non-null    int64  \n",
            " 33  Fast food (Y/N)         541 non-null    int64  \n",
            " 34  Reg.Exercise(Y/N)       541 non-null    int64  \n",
            " 35  BP _Systolic (mmHg)     541 non-null    int64  \n",
            " 36  BP _Diastolic (mmHg)    541 non-null    int64  \n",
            " 37  Follicle No. (L)        541 non-null    int64  \n",
            " 38  Follicle No. (R)        541 non-null    int64  \n",
            " 39  Avg. F size (L) (mm)    541 non-null    float64\n",
            " 40  Avg. F size (R) (mm)    541 non-null    float64\n",
            " 41  Endometrium (mm)        541 non-null    float64\n",
            "dtypes: float64(20), int64(22)\n",
            "memory usage: 177.6 KB\n"
          ]
        }
      ]
    },
    {
      "cell_type": "code",
      "source": [
        "print(pcos_df['Pulse rate(bpm) '].describe())\n",
        "\n",
        "sns.boxplot(pcos_df['Pulse rate(bpm) '])\n",
        "#data is skewed so we use median "
      ],
      "metadata": {
        "colab": {
          "base_uri": "https://localhost:8080/",
          "height": 507
        },
        "id": "4a0Nr3zy3iqt",
        "outputId": "56405704-8cb8-49c2-ae26-95ea6d8743f6"
      },
      "execution_count": null,
      "outputs": [
        {
          "output_type": "stream",
          "name": "stdout",
          "text": [
            "count    541.000000\n",
            "mean      73.247689\n",
            "std        4.430285\n",
            "min       13.000000\n",
            "25%       72.000000\n",
            "50%       72.000000\n",
            "75%       74.000000\n",
            "max       82.000000\n",
            "Name: Pulse rate(bpm) , dtype: float64\n"
          ]
        },
        {
          "output_type": "stream",
          "name": "stderr",
          "text": [
            "/usr/local/lib/python3.7/dist-packages/seaborn/_decorators.py:43: FutureWarning: Pass the following variable as a keyword arg: x. From version 0.12, the only valid positional argument will be `data`, and passing other arguments without an explicit keyword will result in an error or misinterpretation.\n",
            "  FutureWarning\n"
          ]
        },
        {
          "output_type": "execute_result",
          "data": {
            "text/plain": [
              "<matplotlib.axes._subplots.AxesSubplot at 0x7f743959c790>"
            ]
          },
          "metadata": {},
          "execution_count": 4
        },
        {
          "output_type": "display_data",
          "data": {
            "text/plain": [
              "<Figure size 432x288 with 1 Axes>"
            ],
            "image/png": "[encoded data removed]"
          },
          "metadata": {
            "needs_background": "light"
          }
        }
      ]
    },
    {
      "cell_type": "code",
      "source": [
        "#replacing all values less than 60 with the median \n",
        "pcos_df['Pulse rate(bpm) '].mask(pcos_df['Pulse rate(bpm) '] < 60 ,pcos_df['Pulse rate(bpm) '].median() , inplace=True)"
      ],
      "metadata": {
        "id": "MYLMSMls3odB"
      },
      "execution_count": null,
      "outputs": []
    },
    {
      "cell_type": "code",
      "source": [
        "print(pcos_df['Pulse rate(bpm) '].describe())\n",
        "\n",
        "sns.boxplot(pcos_df['Pulse rate(bpm) '])"
      ],
      "metadata": {
        "colab": {
          "base_uri": "https://localhost:8080/",
          "height": 507
        },
        "id": "SnSptXFv3zy1",
        "outputId": "37760958-4321-40b9-b49a-892fc9b1e835"
      },
      "execution_count": null,
      "outputs": [
        {
          "output_type": "stream",
          "name": "stdout",
          "text": [
            "count    541.000000\n",
            "mean      73.456562\n",
            "std        2.686120\n",
            "min       70.000000\n",
            "25%       72.000000\n",
            "50%       72.000000\n",
            "75%       74.000000\n",
            "max       82.000000\n",
            "Name: Pulse rate(bpm) , dtype: float64\n"
          ]
        },
        {
          "output_type": "stream",
          "name": "stderr",
          "text": [
            "/usr/local/lib/python3.7/dist-packages/seaborn/_decorators.py:43: FutureWarning: Pass the following variable as a keyword arg: x. From version 0.12, the only valid positional argument will be `data`, and passing other arguments without an explicit keyword will result in an error or misinterpretation.\n",
            "  FutureWarning\n"
          ]
        },
        {
          "output_type": "execute_result",
          "data": {
            "text/plain": [
              "<matplotlib.axes._subplots.AxesSubplot at 0x7f74388c6390>"
            ]
          },
          "metadata": {},
          "execution_count": 6
        },
        {
          "output_type": "display_data",
          "data": {
            "text/plain": [
              "<Figure size 432x288 with 1 Axes>"
            ],
            "image/png": "[encoded data removed]"
          },
          "metadata": {
            "needs_background": "light"
          }
        }
      ]
    },
    {
      "cell_type": "code",
      "source": [
        "print(pcos_df['RR (breaths/min)'].describe())\n",
        "sns.boxplot(pcos_df['RR (breaths/min)'])\n",
        "\n",
        "#The normal respiration rate for an adult at rest is 12 to 20 breaths per minute. A respiration rate under 12 or over 25 breaths per minute while resting is \n",
        "#considered abnormal but it can be present so yo data chai I didn't do anything\n"
      ],
      "metadata": {
        "colab": {
          "base_uri": "https://localhost:8080/",
          "height": 507
        },
        "id": "-pZheMzz30bv",
        "outputId": "e97010f8-8f16-452c-9080-1f25d11c1482"
      },
      "execution_count": null,
      "outputs": [
        {
          "output_type": "stream",
          "name": "stdout",
          "text": [
            "count    541.000000\n",
            "mean      19.243993\n",
            "std        1.688629\n",
            "min       16.000000\n",
            "25%       18.000000\n",
            "50%       18.000000\n",
            "75%       20.000000\n",
            "max       28.000000\n",
            "Name: RR (breaths/min), dtype: float64\n"
          ]
        },
        {
          "output_type": "stream",
          "name": "stderr",
          "text": [
            "/usr/local/lib/python3.7/dist-packages/seaborn/_decorators.py:43: FutureWarning: Pass the following variable as a keyword arg: x. From version 0.12, the only valid positional argument will be `data`, and passing other arguments without an explicit keyword will result in an error or misinterpretation.\n",
            "  FutureWarning\n"
          ]
        },
        {
          "output_type": "execute_result",
          "data": {
            "text/plain": [
              "<matplotlib.axes._subplots.AxesSubplot at 0x7f74383d3890>"
            ]
          },
          "metadata": {},
          "execution_count": 7
        },
        {
          "output_type": "display_data",
          "data": {
            "text/plain": [
              "<Figure size 432x288 with 1 Axes>"
            ],
            "image/png": "[encoded data removed]"
          },
          "metadata": {
            "needs_background": "light"
          }
        }
      ]
    },
    {
      "cell_type": "code",
      "source": [
        "#F For women, a normal level ranges between 12.3 gm/dL and 15.3 gm/dL. \n",
        "print(pcos_df['Hb(g/dl)'].describe())\n",
        "sns.boxplot(pcos_df['Hb(g/dl)'])\n",
        "\n",
        "print(pcos_df['Cycle(R/I)'].describe())\n",
        "sns.boxplot(pcos_df['Cycle(R/I)'])\n",
        "\n",
        "\n"
      ],
      "metadata": {
        "colab": {
          "base_uri": "https://localhost:8080/",
          "height": 698
        },
        "id": "JKiIvkDF5Zyu",
        "outputId": "7f338022-f3a2-46f8-c663-c5fef78ba470"
      },
      "execution_count": null,
      "outputs": [
        {
          "output_type": "stream",
          "name": "stdout",
          "text": [
            "count    541.000000\n",
            "mean      11.160037\n",
            "std        0.866904\n",
            "min        8.500000\n",
            "25%       10.500000\n",
            "50%       11.000000\n",
            "75%       11.700000\n",
            "max       14.800000\n",
            "Name: Hb(g/dl), dtype: float64\n",
            "count    541.000000\n",
            "mean       2.560074\n",
            "std        0.901950\n",
            "min        2.000000\n",
            "25%        2.000000\n",
            "50%        2.000000\n",
            "75%        4.000000\n",
            "max        5.000000\n",
            "Name: Cycle(R/I), dtype: float64\n"
          ]
        },
        {
          "output_type": "stream",
          "name": "stderr",
          "text": [
            "/usr/local/lib/python3.7/dist-packages/seaborn/_decorators.py:43: FutureWarning: Pass the following variable as a keyword arg: x. From version 0.12, the only valid positional argument will be `data`, and passing other arguments without an explicit keyword will result in an error or misinterpretation.\n",
            "  FutureWarning\n",
            "/usr/local/lib/python3.7/dist-packages/seaborn/_decorators.py:43: FutureWarning: Pass the following variable as a keyword arg: x. From version 0.12, the only valid positional argument will be `data`, and passing other arguments without an explicit keyword will result in an error or misinterpretation.\n",
            "  FutureWarning\n"
          ]
        },
        {
          "output_type": "execute_result",
          "data": {
            "text/plain": [
              "<matplotlib.axes._subplots.AxesSubplot at 0x7f7438347190>"
            ]
          },
          "metadata": {},
          "execution_count": 8
        },
        {
          "output_type": "display_data",
          "data": {
            "text/plain": [
              "<Figure size 432x288 with 1 Axes>"
            ],
            "image/png": "[encoded data removed]"
          },
          "metadata": {
            "needs_background": "light"
          }
        }
      ]
    },
    {
      "cell_type": "code",
      "source": [
        "print(pcos_df['Cycle length(days)'].describe())\n",
        "print(pcos_df['Cycle length(days)'].value_counts())\n",
        "sns.boxplot(pcos_df['Cycle length(days)'])"
      ],
      "metadata": {
        "colab": {
          "base_uri": "https://localhost:8080/",
          "height": 733
        },
        "id": "9vnIFm_P57db",
        "outputId": "b1fd5557-a33e-417e-d318-4e7d3da84261"
      },
      "execution_count": null,
      "outputs": [
        {
          "output_type": "stream",
          "name": "stdout",
          "text": [
            "count    541.00000\n",
            "mean       4.94085\n",
            "std        1.49202\n",
            "min        0.00000\n",
            "25%        4.00000\n",
            "50%        5.00000\n",
            "75%        5.00000\n",
            "max       12.00000\n",
            "Name: Cycle length(days), dtype: float64\n",
            "5     276\n",
            "6      91\n",
            "4      61\n",
            "2      38\n",
            "3      36\n",
            "7      19\n",
            "9       9\n",
            "11      5\n",
            "8       2\n",
            "12      2\n",
            "0       1\n",
            "10      1\n",
            "Name: Cycle length(days), dtype: int64\n"
          ]
        },
        {
          "output_type": "stream",
          "name": "stderr",
          "text": [
            "/usr/local/lib/python3.7/dist-packages/seaborn/_decorators.py:43: FutureWarning: Pass the following variable as a keyword arg: x. From version 0.12, the only valid positional argument will be `data`, and passing other arguments without an explicit keyword will result in an error or misinterpretation.\n",
            "  FutureWarning\n"
          ]
        },
        {
          "output_type": "execute_result",
          "data": {
            "text/plain": [
              "<matplotlib.axes._subplots.AxesSubplot at 0x7f74382d4610>"
            ]
          },
          "metadata": {},
          "execution_count": 9
        },
        {
          "output_type": "display_data",
          "data": {
            "text/plain": [
              "<Figure size 432x288 with 1 Axes>"
            ],
            "image/png": "[encoded data removed]"
          },
          "metadata": {
            "needs_background": "light"
          }
        }
      ]
    },
    {
      "cell_type": "code",
      "source": [
        "#since cycle length cannot be 0 replacing that with median\n",
        "\n",
        "pcos_df['Cycle length(days)'].mask(pcos_df['Cycle length(days)'] == 0 ,pcos_df['Cycle length(days)'].median() , inplace=True)\n",
        "\n",
        "print(pcos_df['Cycle length(days)'].describe())\n",
        "print(pcos_df['Cycle length(days)'].value_counts())\n",
        "sns.boxplot(pcos_df['Cycle length(days)'])\n"
      ],
      "metadata": {
        "colab": {
          "base_uri": "https://localhost:8080/",
          "height": 716
        },
        "id": "3Ne853VD64GL",
        "outputId": "cd11f731-9ad3-43a4-f176-a9a93888f3ef"
      },
      "execution_count": null,
      "outputs": [
        {
          "output_type": "stream",
          "name": "stdout",
          "text": [
            "count    541.000000\n",
            "mean       4.950092\n",
            "std        1.476766\n",
            "min        2.000000\n",
            "25%        5.000000\n",
            "50%        5.000000\n",
            "75%        5.000000\n",
            "max       12.000000\n",
            "Name: Cycle length(days), dtype: float64\n",
            "5     277\n",
            "6      91\n",
            "4      61\n",
            "2      38\n",
            "3      36\n",
            "7      19\n",
            "9       9\n",
            "11      5\n",
            "8       2\n",
            "12      2\n",
            "10      1\n",
            "Name: Cycle length(days), dtype: int64\n"
          ]
        },
        {
          "output_type": "stream",
          "name": "stderr",
          "text": [
            "/usr/local/lib/python3.7/dist-packages/seaborn/_decorators.py:43: FutureWarning: Pass the following variable as a keyword arg: x. From version 0.12, the only valid positional argument will be `data`, and passing other arguments without an explicit keyword will result in an error or misinterpretation.\n",
            "  FutureWarning\n"
          ]
        },
        {
          "output_type": "execute_result",
          "data": {
            "text/plain": [
              "<matplotlib.axes._subplots.AxesSubplot at 0x7f7438249590>"
            ]
          },
          "metadata": {},
          "execution_count": 10
        },
        {
          "output_type": "display_data",
          "data": {
            "text/plain": [
              "<Figure size 432x288 with 1 Axes>"
            ],
            "image/png": "[encoded data removed]"
          },
          "metadata": {
            "needs_background": "light"
          }
        }
      ]
    },
    {
      "cell_type": "code",
      "source": [
        "print(pcos_df['  I   beta-HCG(mIU/mL)'].describe())\n",
        "\n",
        "#skipped   I   beta-HCG(mIU/mL) and II beta-HCG(mIU/mL) refer to google docs for the level they should be at"
      ],
      "metadata": {
        "colab": {
          "base_uri": "https://localhost:8080/"
        },
        "id": "Tgl8rIWN9G4s",
        "outputId": "5822d3cd-1f19-4c94-eba0-aa031f2e04b1"
      },
      "execution_count": null,
      "outputs": [
        {
          "output_type": "stream",
          "name": "stdout",
          "text": [
            "count      541.000000\n",
            "mean       664.549235\n",
            "std       3348.920576\n",
            "min          1.300000\n",
            "25%          1.990000\n",
            "50%         20.000000\n",
            "75%        297.210000\n",
            "max      32460.970000\n",
            "Name:   I   beta-HCG(mIU/mL), dtype: float64\n"
          ]
        }
      ]
    },
    {
      "cell_type": "code",
      "source": [
        "print(pcos_df['FSH(mIU/mL)'].describe())\n",
        "\n",
        "\n",
        "sns.boxplot(pcos_df['FSH(mIU/mL)'])"
      ],
      "metadata": {
        "colab": {
          "base_uri": "https://localhost:8080/",
          "height": 507
        },
        "id": "EJWnzCgS9MB7",
        "outputId": "8d232dee-edc9-4d5c-83e4-9f30f2efcb14"
      },
      "execution_count": null,
      "outputs": [
        {
          "output_type": "stream",
          "name": "stdout",
          "text": [
            "count     541.000000\n",
            "mean       14.601832\n",
            "std       217.022081\n",
            "min         0.210000\n",
            "25%         3.300000\n",
            "50%         4.850000\n",
            "75%         6.410000\n",
            "max      5052.000000\n",
            "Name: FSH(mIU/mL), dtype: float64\n"
          ]
        },
        {
          "output_type": "stream",
          "name": "stderr",
          "text": [
            "/usr/local/lib/python3.7/dist-packages/seaborn/_decorators.py:43: FutureWarning: Pass the following variable as a keyword arg: x. From version 0.12, the only valid positional argument will be `data`, and passing other arguments without an explicit keyword will result in an error or misinterpretation.\n",
            "  FutureWarning\n"
          ]
        },
        {
          "output_type": "execute_result",
          "data": {
            "text/plain": [
              "<matplotlib.axes._subplots.AxesSubplot at 0x7f74381b5810>"
            ]
          },
          "metadata": {},
          "execution_count": 12
        },
        {
          "output_type": "display_data",
          "data": {
            "text/plain": [
              "<Figure size 432x288 with 1 Axes>"
            ],
            "image/png": "[encoded data removed]"
          },
          "metadata": {
            "needs_background": "light"
          }
        }
      ]
    },
    {
      "cell_type": "code",
      "source": [
        "#Follicle-stimulating hormone (FSH) : During puberty: 0.3 to 10.0 mIU/mL Adult: 1.5 to 12.4 mIU/mL \n",
        "#Removing values greater than 134.80\n",
        "pcos_df['FSH(mIU/mL)'].mask(pcos_df['FSH(mIU/mL)'] > 134.80 ,pcos_df['FSH(mIU/mL)'].median() , inplace=True)\n",
        "print(pcos_df['FSH(mIU/mL)'].describe())\n",
        "\n",
        "\n",
        "sns.boxplot(pcos_df['FSH(mIU/mL)'])"
      ],
      "metadata": {
        "colab": {
          "base_uri": "https://localhost:8080/",
          "height": 507
        },
        "id": "819V3co4D_w6",
        "outputId": "df56561b-92b8-4f42-d3b2-02c6ffdd0e4a"
      },
      "execution_count": null,
      "outputs": [
        {
          "output_type": "stream",
          "name": "stdout",
          "text": [
            "count    541.000000\n",
            "mean       5.272534\n",
            "std        4.485269\n",
            "min        0.210000\n",
            "25%        3.300000\n",
            "50%        4.850000\n",
            "75%        6.400000\n",
            "max       65.400000\n",
            "Name: FSH(mIU/mL), dtype: float64\n"
          ]
        },
        {
          "output_type": "stream",
          "name": "stderr",
          "text": [
            "/usr/local/lib/python3.7/dist-packages/seaborn/_decorators.py:43: FutureWarning: Pass the following variable as a keyword arg: x. From version 0.12, the only valid positional argument will be `data`, and passing other arguments without an explicit keyword will result in an error or misinterpretation.\n",
            "  FutureWarning\n"
          ]
        },
        {
          "output_type": "execute_result",
          "data": {
            "text/plain": [
              "<matplotlib.axes._subplots.AxesSubplot at 0x7f7438999110>"
            ]
          },
          "metadata": {},
          "execution_count": 13
        },
        {
          "output_type": "display_data",
          "data": {
            "text/plain": [
              "<Figure size 432x288 with 1 Axes>"
            ],
            "image/png": "[encoded data removed]"
          },
          "metadata": {
            "needs_background": "light"
          }
        }
      ]
    },
    {
      "cell_type": "code",
      "source": [
        "#Luteinizing Hormone (LH):\n",
        "\n",
        "print(pcos_df['LH(mIU/mL)'].describe())\n",
        "\n",
        "\n",
        "sns.boxplot(pcos_df['LH(mIU/mL)'])"
      ],
      "metadata": {
        "colab": {
          "base_uri": "https://localhost:8080/",
          "height": 507
        },
        "id": "otdihesFEv4B",
        "outputId": "3f6a35d2-b9c8-4433-be82-6c89b4127ab0"
      },
      "execution_count": null,
      "outputs": [
        {
          "output_type": "stream",
          "name": "stdout",
          "text": [
            "count     541.000000\n",
            "mean        6.469919\n",
            "std        86.673255\n",
            "min         0.020000\n",
            "25%         1.020000\n",
            "50%         2.300000\n",
            "75%         3.680000\n",
            "max      2018.000000\n",
            "Name: LH(mIU/mL), dtype: float64\n"
          ]
        },
        {
          "output_type": "stream",
          "name": "stderr",
          "text": [
            "/usr/local/lib/python3.7/dist-packages/seaborn/_decorators.py:43: FutureWarning: Pass the following variable as a keyword arg: x. From version 0.12, the only valid positional argument will be `data`, and passing other arguments without an explicit keyword will result in an error or misinterpretation.\n",
            "  FutureWarning\n"
          ]
        },
        {
          "output_type": "execute_result",
          "data": {
            "text/plain": [
              "<matplotlib.axes._subplots.AxesSubplot at 0x7f743811a450>"
            ]
          },
          "metadata": {},
          "execution_count": 14
        },
        {
          "output_type": "display_data",
          "data": {
            "text/plain": [
              "<Figure size 432x288 with 1 Axes>"
            ],
            "image/png": "[encoded data removed]"
          },
          "metadata": {
            "needs_background": "light"
          }
        }
      ]
    },
    {
      "cell_type": "code",
      "source": [
        "#Removing values greater than 101\n",
        "pcos_df['LH(mIU/mL)'].mask(pcos_df['LH(mIU/mL)'] > 101 ,pcos_df['LH(mIU/mL)'].median() , inplace=True)\n",
        "print(pcos_df['LH(mIU/mL)'].describe())\n",
        "\n",
        "\n",
        "sns.boxplot(pcos_df['LH(mIU/mL)'])"
      ],
      "metadata": {
        "colab": {
          "base_uri": "https://localhost:8080/",
          "height": 507
        },
        "id": "qCIgY9_5Fatc",
        "outputId": "f7d7426a-c3ee-4937-ff2a-c87b844524dc"
      },
      "execution_count": null,
      "outputs": [
        {
          "output_type": "stream",
          "name": "stdout",
          "text": [
            "count    541.000000\n",
            "mean       2.744041\n",
            "std        2.305620\n",
            "min        0.020000\n",
            "25%        1.020000\n",
            "50%        2.300000\n",
            "75%        3.670000\n",
            "max       14.690000\n",
            "Name: LH(mIU/mL), dtype: float64\n"
          ]
        },
        {
          "output_type": "stream",
          "name": "stderr",
          "text": [
            "/usr/local/lib/python3.7/dist-packages/seaborn/_decorators.py:43: FutureWarning: Pass the following variable as a keyword arg: x. From version 0.12, the only valid positional argument will be `data`, and passing other arguments without an explicit keyword will result in an error or misinterpretation.\n",
            "  FutureWarning\n"
          ]
        },
        {
          "output_type": "execute_result",
          "data": {
            "text/plain": [
              "<matplotlib.axes._subplots.AxesSubplot at 0x7f74381f9cd0>"
            ]
          },
          "metadata": {},
          "execution_count": 15
        },
        {
          "output_type": "display_data",
          "data": {
            "text/plain": [
              "<Figure size 432x288 with 1 Axes>"
            ],
            "image/png": "[encoded data removed]"
          },
          "metadata": {
            "needs_background": "light"
          }
        }
      ]
    },
    {
      "cell_type": "code",
      "source": [
        "\n",
        "print(pcos_df['FSH/LH'].describe())\n",
        "\n",
        "\n",
        "sns.boxplot(pcos_df['FSH/LH'])"
      ],
      "metadata": {
        "colab": {
          "base_uri": "https://localhost:8080/",
          "height": 507
        },
        "id": "Bc2MzepJUb69",
        "outputId": "4f5fff02-1db7-4235-c4cd-544d5efcdfe8"
      },
      "execution_count": null,
      "outputs": [
        {
          "output_type": "stream",
          "name": "stdout",
          "text": [
            "count     541.000000\n",
            "mean        6.904917\n",
            "std        60.691982\n",
            "min         0.000000\n",
            "25%         1.420000\n",
            "50%         2.170000\n",
            "75%         3.960000\n",
            "max      1372.830000\n",
            "Name: FSH/LH, dtype: float64\n"
          ]
        },
        {
          "output_type": "stream",
          "name": "stderr",
          "text": [
            "/usr/local/lib/python3.7/dist-packages/seaborn/_decorators.py:43: FutureWarning: Pass the following variable as a keyword arg: x. From version 0.12, the only valid positional argument will be `data`, and passing other arguments without an explicit keyword will result in an error or misinterpretation.\n",
            "  FutureWarning\n"
          ]
        },
        {
          "output_type": "execute_result",
          "data": {
            "text/plain": [
              "<matplotlib.axes._subplots.AxesSubplot at 0x7f7438010d50>"
            ]
          },
          "metadata": {},
          "execution_count": 16
        },
        {
          "output_type": "display_data",
          "data": {
            "text/plain": [
              "<Figure size 432x288 with 1 Axes>"
            ],
            "image/png": "[encoded data removed]"
          },
          "metadata": {
            "needs_background": "light"
          }
        }
      ]
    },
    {
      "cell_type": "code",
      "source": [
        "#Recalculating FSH/LH\n",
        "pcos_df['FSH/LH']= pcos_df['FSH(mIU/mL)']/pcos_df['LH(mIU/mL)']\n",
        "\n",
        "print(pcos_df['FSH/LH'].describe())\n",
        "\n",
        "\n",
        "sns.boxplot(pcos_df['FSH/LH'])\n",
        "#decide what to do with 327"
      ],
      "metadata": {
        "colab": {
          "base_uri": "https://localhost:8080/",
          "height": 507
        },
        "id": "uA50wX99GPnD",
        "outputId": "8378b97f-b1f5-434f-a15e-eeff97df1862"
      },
      "execution_count": null,
      "outputs": [
        {
          "output_type": "stream",
          "name": "stdout",
          "text": [
            "count    541.000000\n",
            "mean       4.373240\n",
            "std       14.900231\n",
            "min        0.228261\n",
            "25%        1.416244\n",
            "50%        2.161172\n",
            "75%        3.939394\n",
            "max      327.000000\n",
            "Name: FSH/LH, dtype: float64\n"
          ]
        },
        {
          "output_type": "stream",
          "name": "stderr",
          "text": [
            "/usr/local/lib/python3.7/dist-packages/seaborn/_decorators.py:43: FutureWarning: Pass the following variable as a keyword arg: x. From version 0.12, the only valid positional argument will be `data`, and passing other arguments without an explicit keyword will result in an error or misinterpretation.\n",
            "  FutureWarning\n"
          ]
        },
        {
          "output_type": "execute_result",
          "data": {
            "text/plain": [
              "<matplotlib.axes._subplots.AxesSubplot at 0x7f7438984350>"
            ]
          },
          "metadata": {},
          "execution_count": 17
        },
        {
          "output_type": "display_data",
          "data": {
            "text/plain": [
              "<Figure size 432x288 with 1 Axes>"
            ],
            "image/png": "[encoded data removed]"
          },
          "metadata": {
            "needs_background": "light"
          }
        }
      ]
    },
    {
      "cell_type": "code",
      "source": [
        "\n",
        "pcos_df.loc[250,['FSH(mIU/mL)','LH(mIU/mL)','FSH/LH']]"
      ],
      "metadata": {
        "colab": {
          "base_uri": "https://localhost:8080/"
        },
        "id": "jFFUx9-Mbf9H",
        "outputId": "471ef7c2-caf0-4c9f-d7f3-897a9897166b"
      },
      "execution_count": null,
      "outputs": [
        {
          "output_type": "execute_result",
          "data": {
            "text/plain": [
              "FSH(mIU/mL)     65.4\n",
              "LH(mIU/mL)       0.2\n",
              "FSH/LH         327.0\n",
              "Name: 250, dtype: float64"
            ]
          },
          "metadata": {},
          "execution_count": 18
        }
      ]
    },
    {
      "cell_type": "code",
      "source": [
        "pcos_df.drop(pcos_df.loc[pcos_df['FSH/LH']==327].index, inplace=True)"
      ],
      "metadata": {
        "id": "uoAAr3T_fT-n"
      },
      "execution_count": null,
      "outputs": []
    },
    {
      "cell_type": "code",
      "source": [
        "print(pcos_df['FSH(mIU/mL)'].describe())\n",
        "print(pcos_df['LH(mIU/mL)'].describe())\n",
        "print(pcos_df['FSH/LH'].describe())"
      ],
      "metadata": {
        "colab": {
          "base_uri": "https://localhost:8080/"
        },
        "id": "3ereXL4fRd0B",
        "outputId": "a1cdfcb9-1865-42a8-c55f-bfb4cf3419e7"
      },
      "execution_count": null,
      "outputs": [
        {
          "output_type": "stream",
          "name": "stdout",
          "text": [
            "count    540.000000\n",
            "mean       5.161187\n",
            "std        3.665392\n",
            "min        0.210000\n",
            "25%        3.300000\n",
            "50%        4.845000\n",
            "75%        6.400000\n",
            "max       60.370000\n",
            "Name: FSH(mIU/mL), dtype: float64\n",
            "count    540.000000\n",
            "mean       2.748752\n",
            "std        2.305150\n",
            "min        0.020000\n",
            "25%        1.020000\n",
            "50%        2.300000\n",
            "75%        3.672500\n",
            "max       14.690000\n",
            "Name: LH(mIU/mL), dtype: float64\n",
            "count    540.000000\n",
            "mean       3.775783\n",
            "std        5.381258\n",
            "min        0.228261\n",
            "25%        1.415529\n",
            "50%        2.160749\n",
            "75%        3.888314\n",
            "max       61.875000\n",
            "Name: FSH/LH, dtype: float64\n"
          ]
        }
      ]
    },
    {
      "cell_type": "code",
      "source": [
        "\n",
        "print(pcos_df['TSH (mIU/L)'].describe())\n",
        "sns.boxplot(pcos_df['TSH (mIU/L)'])\n",
        "#This data has many outliers but sometimes you can have TSH very high. need to reserach more"
      ],
      "metadata": {
        "colab": {
          "base_uri": "https://localhost:8080/",
          "height": 507
        },
        "id": "cxytbIHvUlTk",
        "outputId": "d014643b-b9ef-4899-feae-864e7d985165"
      },
      "execution_count": null,
      "outputs": [
        {
          "output_type": "stream",
          "name": "stdout",
          "text": [
            "count    540.000000\n",
            "mean       2.981320\n",
            "std        3.759014\n",
            "min        0.040000\n",
            "25%        1.480000\n",
            "50%        2.250000\n",
            "75%        3.570000\n",
            "max       65.000000\n",
            "Name: TSH (mIU/L), dtype: float64\n"
          ]
        },
        {
          "output_type": "stream",
          "name": "stderr",
          "text": [
            "/usr/local/lib/python3.7/dist-packages/seaborn/_decorators.py:43: FutureWarning: Pass the following variable as a keyword arg: x. From version 0.12, the only valid positional argument will be `data`, and passing other arguments without an explicit keyword will result in an error or misinterpretation.\n",
            "  FutureWarning\n"
          ]
        },
        {
          "output_type": "execute_result",
          "data": {
            "text/plain": [
              "<matplotlib.axes._subplots.AxesSubplot at 0x7f7437eeec10>"
            ]
          },
          "metadata": {},
          "execution_count": 21
        },
        {
          "output_type": "display_data",
          "data": {
            "text/plain": [
              "<Figure size 432x288 with 1 Axes>"
            ],
            "image/png": "[encoded data removed]"
          },
          "metadata": {
            "needs_background": "light"
          }
        }
      ]
    },
    {
      "cell_type": "code",
      "source": [
        "pcos_df[\"AMH(ng/mL)\"] = pd.to_numeric(pcos_df[\"AMH(ng/mL)\"], errors='coerce')\n",
        "print(pcos_df['AMH(ng/mL)'].describe())\n",
        "sns.boxplot(pcos_df['AMH(ng/mL)'])\n"
      ],
      "metadata": {
        "colab": {
          "base_uri": "https://localhost:8080/",
          "height": 507
        },
        "id": "zYhjt33EUnkx",
        "outputId": "2e53d966-86ae-4092-dfd7-7432c626396f"
      },
      "execution_count": null,
      "outputs": [
        {
          "output_type": "stream",
          "name": "stdout",
          "text": [
            "count    540.000000\n",
            "mean       5.610487\n",
            "std        5.877446\n",
            "min        0.100000\n",
            "25%        2.010000\n",
            "50%        3.700000\n",
            "75%        6.870000\n",
            "max       66.000000\n",
            "Name: AMH(ng/mL), dtype: float64\n"
          ]
        },
        {
          "output_type": "stream",
          "name": "stderr",
          "text": [
            "/usr/local/lib/python3.7/dist-packages/seaborn/_decorators.py:43: FutureWarning: Pass the following variable as a keyword arg: x. From version 0.12, the only valid positional argument will be `data`, and passing other arguments without an explicit keyword will result in an error or misinterpretation.\n",
            "  FutureWarning\n"
          ]
        },
        {
          "output_type": "execute_result",
          "data": {
            "text/plain": [
              "<matplotlib.axes._subplots.AxesSubplot at 0x7f7437f23890>"
            ]
          },
          "metadata": {},
          "execution_count": 22
        },
        {
          "output_type": "display_data",
          "data": {
            "text/plain": [
              "<Figure size 432x288 with 1 Axes>"
            ],
            "image/png": "[encoded data removed]"
          },
          "metadata": {
            "needs_background": "light"
          }
        }
      ]
    },
    {
      "cell_type": "code",
      "source": [
        "pcos_df['AMH(ng/mL)'].mask(pcos_df['AMH(ng/mL)'] >8.16 ,8.16, inplace=True)\n",
        "print(pcos_df['AMH(ng/mL)'].describe())\n"
      ],
      "metadata": {
        "colab": {
          "base_uri": "https://localhost:8080/"
        },
        "id": "vXgaLjUzlDCJ",
        "outputId": "ebbcc8e7-a1e4-480c-89ed-0fa2982e3400"
      },
      "execution_count": null,
      "outputs": [
        {
          "output_type": "stream",
          "name": "stdout",
          "text": [
            "count    540.000000\n",
            "mean       4.272950\n",
            "std        2.654525\n",
            "min        0.100000\n",
            "25%        2.010000\n",
            "50%        3.700000\n",
            "75%        6.870000\n",
            "max        8.160000\n",
            "Name: AMH(ng/mL), dtype: float64\n"
          ]
        }
      ]
    },
    {
      "cell_type": "code",
      "source": [
        "#PRL(ng/mL):Prolactin blood test\n",
        "print(pcos_df['PRL(ng/mL)'].describe())\n",
        "sns.boxplot(pcos_df['PRL(ng/mL)'])\n"
      ],
      "metadata": {
        "colab": {
          "base_uri": "https://localhost:8080/",
          "height": 507
        },
        "id": "w7oZ4sQEW0Cu",
        "outputId": "f99df15e-9f4b-4be5-ca4a-4ec1355318e2"
      },
      "execution_count": null,
      "outputs": [
        {
          "output_type": "stream",
          "name": "stdout",
          "text": [
            "count    540.000000\n",
            "mean      24.326352\n",
            "std       14.983845\n",
            "min        0.400000\n",
            "25%       14.497500\n",
            "50%       21.920000\n",
            "75%       29.910000\n",
            "max      128.240000\n",
            "Name: PRL(ng/mL), dtype: float64\n"
          ]
        },
        {
          "output_type": "stream",
          "name": "stderr",
          "text": [
            "/usr/local/lib/python3.7/dist-packages/seaborn/_decorators.py:43: FutureWarning: Pass the following variable as a keyword arg: x. From version 0.12, the only valid positional argument will be `data`, and passing other arguments without an explicit keyword will result in an error or misinterpretation.\n",
            "  FutureWarning\n"
          ]
        },
        {
          "output_type": "execute_result",
          "data": {
            "text/plain": [
              "<matplotlib.axes._subplots.AxesSubplot at 0x7f7437f66210>"
            ]
          },
          "metadata": {},
          "execution_count": 24
        },
        {
          "output_type": "display_data",
          "data": {
            "text/plain": [
              "<Figure size 432x288 with 1 Axes>"
            ],
            "image/png": "[encoded data removed]"
          },
          "metadata": {
            "needs_background": "light"
          }
        }
      ]
    },
    {
      "cell_type": "code",
      "source": [],
      "metadata": {
        "id": "OxlonXOPLsSS"
      },
      "execution_count": null,
      "outputs": []
    },
    {
      "cell_type": "code",
      "source": [
        "print(pcos_df['Vit D3 (ng/mL)'].describe())\n",
        "sns.boxplot(pcos_df['Vit D3 (ng/mL)'])\n"
      ],
      "metadata": {
        "colab": {
          "base_uri": "https://localhost:8080/",
          "height": 507
        },
        "id": "gw4g1e8LauoC",
        "outputId": "f41b25ea-1a94-4a21-d499-f0c9ba62caff"
      },
      "execution_count": null,
      "outputs": [
        {
          "output_type": "stream",
          "name": "stdout",
          "text": [
            "count     540.000000\n",
            "mean       49.973681\n",
            "std       346.524993\n",
            "min         0.000000\n",
            "25%        20.800000\n",
            "50%        25.950000\n",
            "75%        34.550000\n",
            "max      6014.660000\n",
            "Name: Vit D3 (ng/mL), dtype: float64\n"
          ]
        },
        {
          "output_type": "stream",
          "name": "stderr",
          "text": [
            "/usr/local/lib/python3.7/dist-packages/seaborn/_decorators.py:43: FutureWarning: Pass the following variable as a keyword arg: x. From version 0.12, the only valid positional argument will be `data`, and passing other arguments without an explicit keyword will result in an error or misinterpretation.\n",
            "  FutureWarning\n"
          ]
        },
        {
          "output_type": "execute_result",
          "data": {
            "text/plain": [
              "<matplotlib.axes._subplots.AxesSubplot at 0x7f743822bb90>"
            ]
          },
          "metadata": {},
          "execution_count": 25
        },
        {
          "output_type": "display_data",
          "data": {
            "text/plain": [
              "<Figure size 432x288 with 1 Axes>"
            ],
            "image/png": "[encoded data removed]"
          },
          "metadata": {
            "needs_background": "light"
          }
        }
      ]
    },
    {
      "cell_type": "code",
      "source": [
        "#cleaning vit d\n",
        "#Blood levels in the range of 20–30 ng/mL are usually considered sufficient. The safe upper limit is considered to be about 60 ng/mL, but people with symptoms of toxicity usually have levels above 150 ng/mL.\n",
        "\n",
        "pcos_df['Vit D3 (ng/mL)'].mask(pcos_df['Vit D3 (ng/mL)'] > 1000 ,pcos_df['Vit D3 (ng/mL)'].mean() , inplace=True)\n",
        "print(pcos_df['Vit D3 (ng/mL)'].describe())\n",
        "sns.boxplot(pcos_df['Vit D3 (ng/mL)'])"
      ],
      "metadata": {
        "colab": {
          "base_uri": "https://localhost:8080/",
          "height": 507
        },
        "id": "jaUBw3zma6h2",
        "outputId": "302a721e-8c86-4724-d9f7-1d94400d1d5c"
      },
      "execution_count": null,
      "outputs": [
        {
          "output_type": "stream",
          "name": "stdout",
          "text": [
            "count    540.000000\n",
            "mean      28.986065\n",
            "std       12.587204\n",
            "min        0.000000\n",
            "25%       20.800000\n",
            "50%       25.950000\n",
            "75%       34.550000\n",
            "max       90.000000\n",
            "Name: Vit D3 (ng/mL), dtype: float64\n"
          ]
        },
        {
          "output_type": "stream",
          "name": "stderr",
          "text": [
            "/usr/local/lib/python3.7/dist-packages/seaborn/_decorators.py:43: FutureWarning: Pass the following variable as a keyword arg: x. From version 0.12, the only valid positional argument will be `data`, and passing other arguments without an explicit keyword will result in an error or misinterpretation.\n",
            "  FutureWarning\n"
          ]
        },
        {
          "output_type": "execute_result",
          "data": {
            "text/plain": [
              "<matplotlib.axes._subplots.AxesSubplot at 0x7f7437f835d0>"
            ]
          },
          "metadata": {},
          "execution_count": 26
        },
        {
          "output_type": "display_data",
          "data": {
            "text/plain": [
              "<Figure size 432x288 with 1 Axes>"
            ],
            "image/png": "[encoded data removed]"
          },
          "metadata": {
            "needs_background": "light"
          }
        }
      ]
    },
    {
      "cell_type": "code",
      "source": [
        "pcos_df.columns\n"
      ],
      "metadata": {
        "id": "st-HSZ37cm97",
        "colab": {
          "base_uri": "https://localhost:8080/"
        },
        "outputId": "7eba024a-0861-4087-d0a3-74a516398619"
      },
      "execution_count": null,
      "outputs": [
        {
          "output_type": "execute_result",
          "data": {
            "text/plain": [
              "Index(['PCOS (Y/N)', ' Age (yrs)', 'Weight (Kg)', 'Height(Cm) ', 'BMI',\n",
              "       'Blood Group', 'Pulse rate(bpm) ', 'RR (breaths/min)', 'Hb(g/dl)',\n",
              "       'Cycle(R/I)', 'Cycle length(days)', 'Marraige Status (Yrs)',\n",
              "       'Pregnant(Y/N)', 'No. of abortions', '  I   beta-HCG(mIU/mL)',\n",
              "       'II    beta-HCG(mIU/mL)', 'FSH(mIU/mL)', 'LH(mIU/mL)', 'FSH/LH',\n",
              "       'Hip(inch)', 'Waist(inch)', 'Waist:Hip Ratio', 'TSH (mIU/L)',\n",
              "       'AMH(ng/mL)', 'PRL(ng/mL)', 'Vit D3 (ng/mL)', 'PRG(ng/mL)',\n",
              "       'RBS(mg/dl)', 'Weight gain(Y/N)', 'hair growth(Y/N)',\n",
              "       'Skin darkening (Y/N)', 'Hair loss(Y/N)', 'Pimples(Y/N)',\n",
              "       'Fast food (Y/N)', 'Reg.Exercise(Y/N)', 'BP _Systolic (mmHg)',\n",
              "       'BP _Diastolic (mmHg)', 'Follicle No. (L)', 'Follicle No. (R)',\n",
              "       'Avg. F size (L) (mm)', 'Avg. F size (R) (mm)', 'Endometrium (mm)'],\n",
              "      dtype='object')"
            ]
          },
          "metadata": {},
          "execution_count": 27
        }
      ]
    },
    {
      "cell_type": "code",
      "source": [],
      "metadata": {
        "id": "T2e69L6BV2eq"
      },
      "execution_count": null,
      "outputs": []
    },
    {
      "cell_type": "code",
      "source": [
        "#PRG(ng/mL):serum progesterone test \n",
        "#men, postmenopausal women, and women at the beginning of their menstrual cycle: 1 ng/mL or under || pregnant women in their second trimester: 25.6 to 89.4 ng/mL\n",
        "print(pcos_df['PRG(ng/mL)'].describe())\n",
        "sns.boxplot(pcos_df['PRG(ng/mL)'])\n",
        "\n"
      ],
      "metadata": {
        "colab": {
          "base_uri": "https://localhost:8080/",
          "height": 507
        },
        "id": "dEzfVGS7LuG1",
        "outputId": "7b24ba8b-22d9-4775-b1c3-8b5edd52db2f"
      },
      "execution_count": null,
      "outputs": [
        {
          "output_type": "stream",
          "name": "stdout",
          "text": [
            "count    540.000000\n",
            "mean       0.611613\n",
            "std        3.812353\n",
            "min        0.047000\n",
            "25%        0.250000\n",
            "50%        0.320000\n",
            "75%        0.452500\n",
            "max       85.000000\n",
            "Name: PRG(ng/mL), dtype: float64\n"
          ]
        },
        {
          "output_type": "stream",
          "name": "stderr",
          "text": [
            "/usr/local/lib/python3.7/dist-packages/seaborn/_decorators.py:43: FutureWarning: Pass the following variable as a keyword arg: x. From version 0.12, the only valid positional argument will be `data`, and passing other arguments without an explicit keyword will result in an error or misinterpretation.\n",
            "  FutureWarning\n"
          ]
        },
        {
          "output_type": "execute_result",
          "data": {
            "text/plain": [
              "<matplotlib.axes._subplots.AxesSubplot at 0x7f7437cfba10>"
            ]
          },
          "metadata": {},
          "execution_count": 28
        },
        {
          "output_type": "display_data",
          "data": {
            "text/plain": [
              "<Figure size 432x288 with 1 Axes>"
            ],
            "image/png": "[encoded data removed]"
          },
          "metadata": {
            "needs_background": "light"
          }
        }
      ]
    },
    {
      "cell_type": "code",
      "source": [
        "#RBS: Random Blood Sugar (RBS) Test\n",
        "#If blood sugar higher than usually 200 (mg/dL) to 350 mg/dL in adults and 200 mg/dL to 240 mg/dL in children, then mild symptoms of high blood sugar.\n",
        "\n",
        "print(pcos_df['RBS(mg/dl)'].describe())\n",
        "sns.boxplot(pcos_df['RBS(mg/dl)'])\n"
      ],
      "metadata": {
        "colab": {
          "base_uri": "https://localhost:8080/",
          "height": 507
        },
        "id": "0O8CDmMoTS9H",
        "outputId": "72fe23e0-d4bc-4ca9-9af8-9fdd1e40aa3e"
      },
      "execution_count": null,
      "outputs": [
        {
          "output_type": "stream",
          "name": "stdout",
          "text": [
            "count    540.000000\n",
            "mean      99.861481\n",
            "std       18.566926\n",
            "min       60.000000\n",
            "25%       92.000000\n",
            "50%      100.000000\n",
            "75%      107.000000\n",
            "max      350.000000\n",
            "Name: RBS(mg/dl), dtype: float64\n"
          ]
        },
        {
          "output_type": "stream",
          "name": "stderr",
          "text": [
            "/usr/local/lib/python3.7/dist-packages/seaborn/_decorators.py:43: FutureWarning: Pass the following variable as a keyword arg: x. From version 0.12, the only valid positional argument will be `data`, and passing other arguments without an explicit keyword will result in an error or misinterpretation.\n",
            "  FutureWarning\n"
          ]
        },
        {
          "output_type": "execute_result",
          "data": {
            "text/plain": [
              "<matplotlib.axes._subplots.AxesSubplot at 0x7f7439291790>"
            ]
          },
          "metadata": {},
          "execution_count": 29
        },
        {
          "output_type": "display_data",
          "data": {
            "text/plain": [
              "<Figure size 432x288 with 1 Axes>"
            ],
            "image/png": "[encoded data removed]"
          },
          "metadata": {
            "needs_background": "light"
          }
        }
      ]
    },
    {
      "cell_type": "code",
      "source": [
        "#BP _Systolic (mmHg)\n",
        "pcos_df['BP _Systolic (mmHg)'].mask(pcos_df['BP _Systolic (mmHg)'] < 80 ,pcos_df['BP _Systolic (mmHg)'].median() , inplace=True)\n",
        "print(pcos_df['BP _Systolic (mmHg)'].describe())\n",
        "sns.boxplot(pcos_df['BP _Systolic (mmHg)'])\n"
      ],
      "metadata": {
        "colab": {
          "base_uri": "https://localhost:8080/",
          "height": 508
        },
        "id": "Bxp6A81TV7u9",
        "outputId": "51149d1d-78e2-4e4d-e78f-a842f3cd5691"
      },
      "execution_count": null,
      "outputs": [
        {
          "output_type": "stream",
          "name": "stdout",
          "text": [
            "count    540.000000\n",
            "mean     114.833333\n",
            "std        5.919215\n",
            "min      100.000000\n",
            "25%      110.000000\n",
            "50%      110.000000\n",
            "75%      120.000000\n",
            "max      140.000000\n",
            "Name: BP _Systolic (mmHg), dtype: float64\n"
          ]
        },
        {
          "output_type": "stream",
          "name": "stderr",
          "text": [
            "/usr/local/lib/python3.7/dist-packages/seaborn/_decorators.py:43: FutureWarning: Pass the following variable as a keyword arg: x. From version 0.12, the only valid positional argument will be `data`, and passing other arguments without an explicit keyword will result in an error or misinterpretation.\n",
            "  FutureWarning\n"
          ]
        },
        {
          "output_type": "execute_result",
          "data": {
            "text/plain": [
              "<matplotlib.axes._subplots.AxesSubplot at 0x7f7437c2de90>"
            ]
          },
          "metadata": {},
          "execution_count": 30
        },
        {
          "output_type": "display_data",
          "data": {
            "text/plain": [
              "<Figure size 432x288 with 1 Axes>"
            ],
            "image/png": "[encoded data removed]"
          },
          "metadata": {
            "needs_background": "light"
          }
        }
      ]
    },
    {
      "cell_type": "code",
      "source": [
        "#BP _Diastolic (mmHg)\n",
        "pcos_df['BP _Diastolic (mmHg)'].mask(pcos_df['BP _Diastolic (mmHg)'] < 50 ,pcos_df['BP _Diastolic (mmHg)'].median() , inplace=True)\n",
        "\n",
        "print(pcos_df['BP _Diastolic (mmHg)'].describe())\n",
        "sns.boxplot(pcos_df['BP _Diastolic (mmHg)'])"
      ],
      "metadata": {
        "colab": {
          "base_uri": "https://localhost:8080/",
          "height": 508
        },
        "id": "UWKJfq8dXIid",
        "outputId": "04b93798-4e99-4b69-b0be-6a21eb7314f7"
      },
      "execution_count": null,
      "outputs": [
        {
          "output_type": "stream",
          "name": "stdout",
          "text": [
            "count    540.000000\n",
            "mean      77.055556\n",
            "std        4.722019\n",
            "min       60.000000\n",
            "25%       70.000000\n",
            "50%       80.000000\n",
            "75%       80.000000\n",
            "max      100.000000\n",
            "Name: BP _Diastolic (mmHg), dtype: float64\n"
          ]
        },
        {
          "output_type": "stream",
          "name": "stderr",
          "text": [
            "/usr/local/lib/python3.7/dist-packages/seaborn/_decorators.py:43: FutureWarning: Pass the following variable as a keyword arg: x. From version 0.12, the only valid positional argument will be `data`, and passing other arguments without an explicit keyword will result in an error or misinterpretation.\n",
            "  FutureWarning\n"
          ]
        },
        {
          "output_type": "execute_result",
          "data": {
            "text/plain": [
              "<matplotlib.axes._subplots.AxesSubplot at 0x7f7437c229d0>"
            ]
          },
          "metadata": {},
          "execution_count": 31
        },
        {
          "output_type": "display_data",
          "data": {
            "text/plain": [
              "<Figure size 432x288 with 1 Axes>"
            ],
            "image/png": "[encoded data removed]"
          },
          "metadata": {
            "needs_background": "light"
          }
        }
      ]
    },
    {
      "cell_type": "code",
      "source": [
        "\n",
        "#'Follicle No. (L)', \n",
        "print(pcos_df['Follicle No. (L)'].describe())\n",
        "sns.boxplot(pcos_df['Follicle No. (L)'])\n",
        "\n",
        "#'Follicle No. (R)'\n",
        "print(pcos_df['Follicle No. (R)'].describe())\n",
        "sns.boxplot(pcos_df['Follicle No. (R)'])\n",
        "\n"
      ],
      "metadata": {
        "colab": {
          "base_uri": "https://localhost:8080/",
          "height": 698
        },
        "id": "cfHwmM6YX5lc",
        "outputId": "323b8f15-902e-420b-a432-a4a8472f4ea4"
      },
      "execution_count": null,
      "outputs": [
        {
          "output_type": "stream",
          "name": "stdout",
          "text": [
            "count    540.000000\n",
            "mean       6.122222\n",
            "std        4.229925\n",
            "min        0.000000\n",
            "25%        3.000000\n",
            "50%        5.000000\n",
            "75%        9.000000\n",
            "max       22.000000\n",
            "Name: Follicle No. (L), dtype: float64\n",
            "count    540.000000\n",
            "mean       6.625926\n",
            "std        4.426358\n",
            "min        0.000000\n",
            "25%        3.000000\n",
            "50%        6.000000\n",
            "75%       10.000000\n",
            "max       20.000000\n",
            "Name: Follicle No. (R), dtype: float64\n"
          ]
        },
        {
          "output_type": "stream",
          "name": "stderr",
          "text": [
            "/usr/local/lib/python3.7/dist-packages/seaborn/_decorators.py:43: FutureWarning: Pass the following variable as a keyword arg: x. From version 0.12, the only valid positional argument will be `data`, and passing other arguments without an explicit keyword will result in an error or misinterpretation.\n",
            "  FutureWarning\n",
            "/usr/local/lib/python3.7/dist-packages/seaborn/_decorators.py:43: FutureWarning: Pass the following variable as a keyword arg: x. From version 0.12, the only valid positional argument will be `data`, and passing other arguments without an explicit keyword will result in an error or misinterpretation.\n",
            "  FutureWarning\n"
          ]
        },
        {
          "output_type": "execute_result",
          "data": {
            "text/plain": [
              "<matplotlib.axes._subplots.AxesSubplot at 0x7f7437b98bd0>"
            ]
          },
          "metadata": {},
          "execution_count": 32
        },
        {
          "output_type": "display_data",
          "data": {
            "text/plain": [
              "<Figure size 432x288 with 1 Axes>"
            ],
            "image/png": "[encoded data removed]"
          },
          "metadata": {
            "needs_background": "light"
          }
        }
      ]
    },
    {
      "cell_type": "code",
      "source": [
        "pcos_df.loc[pcos_df['Follicle No. (R)'] == 0]"
      ],
      "metadata": {
        "colab": {
          "base_uri": "https://localhost:8080/",
          "height": 557
        },
        "id": "yiKyEwaoZsO9",
        "outputId": "f1b07f95-c9ea-4849-deb2-f5d680a2a8bc"
      },
      "execution_count": null,
      "outputs": [
        {
          "output_type": "execute_result",
          "data": {
            "text/plain": [
              "     PCOS (Y/N)   Age (yrs)  Weight (Kg)  Height(Cm)    BMI  Blood Group  \\\n",
              "103           0          34         57.0      160.000  22.3           15   \n",
              "127           0          42         48.0      148.000  21.9           11   \n",
              "261           0          32         35.0      150.000  15.6           11   \n",
              "288           0          35         66.0      155.000  27.5           15   \n",
              "298           0          34         67.0      152.000  29.0           15   \n",
              "299           0          26         50.0      152.000  21.6           11   \n",
              "409           0          40         60.0      161.000  23.1           13   \n",
              "528           0          41         58.0      146.304  27.1           13   \n",
              "531           0          34         70.0      164.000  26.0           11   \n",
              "536           0          35         50.0      164.592  18.5           17   \n",
              "538           0          36         54.0      152.000  23.4           13   \n",
              "\n",
              "     Pulse rate(bpm)   RR (breaths/min)  Hb(g/dl)  Cycle(R/I)  ...  \\\n",
              "103                72                20      11.8           2  ...   \n",
              "127                72                18      11.2           2  ...   \n",
              "261                70                18      11.5           2  ...   \n",
              "288                78                22      10.5           4  ...   \n",
              "298                74                20      11.5           2  ...   \n",
              "299                72                20      11.0           4  ...   \n",
              "409                74                20      11.2           2  ...   \n",
              "528                72                20      10.5           2  ...   \n",
              "531                72                22      10.5           2  ...   \n",
              "536                72                16      11.0           2  ...   \n",
              "538                74                20      10.8           2  ...   \n",
              "\n",
              "     Pimples(Y/N)  Fast food (Y/N)  Reg.Exercise(Y/N)  BP _Systolic (mmHg)  \\\n",
              "103             0                0                  0                  120   \n",
              "127             0                0                  0                  110   \n",
              "261             0                1                  0                  110   \n",
              "288             0                1                  0                  110   \n",
              "298             1                1                  0                  120   \n",
              "299             0                1                  1                  120   \n",
              "409             1                0                  0                  110   \n",
              "528             0                1                  0                  120   \n",
              "531             0                0                  0                  120   \n",
              "536             0                0                  0                  110   \n",
              "538             0                0                  0                  110   \n",
              "\n",
              "     BP _Diastolic (mmHg)  Follicle No. (L)  Follicle No. (R)  \\\n",
              "103                    80                 1                 0   \n",
              "127                    70                 1                 0   \n",
              "261                    80                 1                 0   \n",
              "288                    80                 1                 0   \n",
              "298                    70                 1                 0   \n",
              "299                    80                 1                 0   \n",
              "409                    70                 3                 0   \n",
              "528                    80                 1                 0   \n",
              "531                    70                 2                 0   \n",
              "536                    70                 1                 0   \n",
              "538                    80                 1                 0   \n",
              "\n",
              "     Avg. F size (L) (mm)  Avg. F size (R) (mm)  Endometrium (mm)  \n",
              "103                  14.0                   0.0               7.0  \n",
              "127                  17.0                  15.0               9.0  \n",
              "261                  19.0                  20.0              10.0  \n",
              "288                  15.0                  18.0               7.7  \n",
              "298                  16.0                  12.0               7.7  \n",
              "299                  15.0                  18.0              11.0  \n",
              "409                  10.0                  11.0               4.0  \n",
              "528                  19.0                  14.0               9.7  \n",
              "531                  21.0                  16.0               8.5  \n",
              "536                  17.5                  10.0               6.7  \n",
              "538                  18.0                   9.0               7.3  \n",
              "\n",
              "[11 rows x 42 columns]"
            ],
            "text/html": [
              "\n",
              "  <div id=\"df-e71db328-83b0-46dd-9eeb-636d48eb5a41\">\n",
              "    <div class=\"colab-df-container\">\n",
              "      <div>\n",
              "<style scoped>\n",
              "    .dataframe tbody tr th:only-of-type {\n",
              "        vertical-align: middle;\n",
              "    }\n",
              "\n",
              "    .dataframe tbody tr th {\n",
              "        vertical-align: top;\n",
              "    }\n",
              "\n",
              "    .dataframe thead th {\n",
              "        text-align: right;\n",
              "    }\n",
              "</style>\n",
              "<table border=\"1\" class=\"dataframe\">\n",
              "  <thead>\n",
              "    <tr style=\"text-align: right;\">\n",
              "      <th></th>\n",
              "      <th>PCOS (Y/N)</th>\n",
              "      <th>Age (yrs)</th>\n",
              "      <th>Weight (Kg)</th>\n",
              "      <th>Height(Cm)</th>\n",
              "      <th>BMI</th>\n",
              "      <th>Blood Group</th>\n",
              "      <th>Pulse rate(bpm)</th>\n",
              "      <th>RR (breaths/min)</th>\n",
              "      <th>Hb(g/dl)</th>\n",
              "      <th>Cycle(R/I)</th>\n",
              "      <th>...</th>\n",
              "      <th>Pimples(Y/N)</th>\n",
              "      <th>Fast food (Y/N)</th>\n",
              "      <th>Reg.Exercise(Y/N)</th>\n",
              "      <th>BP _Systolic (mmHg)</th>\n",
              "      <th>BP _Diastolic (mmHg)</th>\n",
              "      <th>Follicle No. (L)</th>\n",
              "      <th>Follicle No. (R)</th>\n",
              "      <th>Avg. F size (L) (mm)</th>\n",
              "      <th>Avg. F size (R) (mm)</th>\n",
              "      <th>Endometrium (mm)</th>\n",
              "    </tr>\n",
              "  </thead>\n",
              "  <tbody>\n",
              "    <tr>\n",
              "      <th>103</th>\n",
              "      <td>0</td>\n",
              "      <td>34</td>\n",
              "      <td>57.0</td>\n",
              "      <td>160.000</td>\n",
              "      <td>22.3</td>\n",
              "      <td>15</td>\n",
              "      <td>72</td>\n",
              "      <td>20</td>\n",
              "      <td>11.8</td>\n",
              "      <td>2</td>\n",
              "      <td>...</td>\n",
              "      <td>0</td>\n",
              "      <td>0</td>\n",
              "      <td>0</td>\n",
              "      <td>120</td>\n",
              "      <td>80</td>\n",
              "      <td>1</td>\n",
              "      <td>0</td>\n",
              "      <td>14.0</td>\n",
              "      <td>0.0</td>\n",
              "      <td>7.0</td>\n",
              "    </tr>\n",
              "    <tr>\n",
              "      <th>127</th>\n",
              "      <td>0</td>\n",
              "      <td>42</td>\n",
              "      <td>48.0</td>\n",
              "      <td>148.000</td>\n",
              "      <td>21.9</td>\n",
              "      <td>11</td>\n",
              "      <td>72</td>\n",
              "      <td>18</td>\n",
              "      <td>11.2</td>\n",
              "      <td>2</td>\n",
              "      <td>...</td>\n",
              "      <td>0</td>\n",
              "      <td>0</td>\n",
              "      <td>0</td>\n",
              "      <td>110</td>\n",
              "      <td>70</td>\n",
              "      <td>1</td>\n",
              "      <td>0</td>\n",
              "      <td>17.0</td>\n",
              "      <td>15.0</td>\n",
              "      <td>9.0</td>\n",
              "    </tr>\n",
              "    <tr>\n",
              "      <th>261</th>\n",
              "      <td>0</td>\n",
              "      <td>32</td>\n",
              "      <td>35.0</td>\n",
              "      <td>150.000</td>\n",
              "      <td>15.6</td>\n",
              "      <td>11</td>\n",
              "      <td>70</td>\n",
              "      <td>18</td>\n",
              "      <td>11.5</td>\n",
              "      <td>2</td>\n",
              "      <td>...</td>\n",
              "      <td>0</td>\n",
              "      <td>1</td>\n",
              "      <td>0</td>\n",
              "      <td>110</td>\n",
              "      <td>80</td>\n",
              "      <td>1</td>\n",
              "      <td>0</td>\n",
              "      <td>19.0</td>\n",
              "      <td>20.0</td>\n",
              "      <td>10.0</td>\n",
              "    </tr>\n",
              "    <tr>\n",
              "      <th>288</th>\n",
              "      <td>0</td>\n",
              "      <td>35</td>\n",
              "      <td>66.0</td>\n",
              "      <td>155.000</td>\n",
              "      <td>27.5</td>\n",
              "      <td>15</td>\n",
              "      <td>78</td>\n",
              "      <td>22</td>\n",
              "      <td>10.5</td>\n",
              "      <td>4</td>\n",
              "      <td>...</td>\n",
              "      <td>0</td>\n",
              "      <td>1</td>\n",
              "      <td>0</td>\n",
              "      <td>110</td>\n",
              "      <td>80</td>\n",
              "      <td>1</td>\n",
              "      <td>0</td>\n",
              "      <td>15.0</td>\n",
              "      <td>18.0</td>\n",
              "      <td>7.7</td>\n",
              "    </tr>\n",
              "    <tr>\n",
              "      <th>298</th>\n",
              "      <td>0</td>\n",
              "      <td>34</td>\n",
              "      <td>67.0</td>\n",
              "      <td>152.000</td>\n",
              "      <td>29.0</td>\n",
              "      <td>15</td>\n",
              "      <td>74</td>\n",
              "      <td>20</td>\n",
              "      <td>11.5</td>\n",
              "      <td>2</td>\n",
              "      <td>...</td>\n",
              "      <td>1</td>\n",
              "      <td>1</td>\n",
              "      <td>0</td>\n",
              "      <td>120</td>\n",
              "      <td>70</td>\n",
              "      <td>1</td>\n",
              "      <td>0</td>\n",
              "      <td>16.0</td>\n",
              "      <td>12.0</td>\n",
              "      <td>7.7</td>\n",
              "    </tr>\n",
              "    <tr>\n",
              "      <th>299</th>\n",
              "      <td>0</td>\n",
              "      <td>26</td>\n",
              "      <td>50.0</td>\n",
              "      <td>152.000</td>\n",
              "      <td>21.6</td>\n",
              "      <td>11</td>\n",
              "      <td>72</td>\n",
              "      <td>20</td>\n",
              "      <td>11.0</td>\n",
              "      <td>4</td>\n",
              "      <td>...</td>\n",
              "      <td>0</td>\n",
              "      <td>1</td>\n",
              "      <td>1</td>\n",
              "      <td>120</td>\n",
              "      <td>80</td>\n",
              "      <td>1</td>\n",
              "      <td>0</td>\n",
              "      <td>15.0</td>\n",
              "      <td>18.0</td>\n",
              "      <td>11.0</td>\n",
              "    </tr>\n",
              "    <tr>\n",
              "      <th>409</th>\n",
              "      <td>0</td>\n",
              "      <td>40</td>\n",
              "      <td>60.0</td>\n",
              "      <td>161.000</td>\n",
              "      <td>23.1</td>\n",
              "      <td>13</td>\n",
              "      <td>74</td>\n",
              "      <td>20</td>\n",
              "      <td>11.2</td>\n",
              "      <td>2</td>\n",
              "      <td>...</td>\n",
              "      <td>1</td>\n",
              "      <td>0</td>\n",
              "      <td>0</td>\n",
              "      <td>110</td>\n",
              "      <td>70</td>\n",
              "      <td>3</td>\n",
              "      <td>0</td>\n",
              "      <td>10.0</td>\n",
              "      <td>11.0</td>\n",
              "      <td>4.0</td>\n",
              "    </tr>\n",
              "    <tr>\n",
              "      <th>528</th>\n",
              "      <td>0</td>\n",
              "      <td>41</td>\n",
              "      <td>58.0</td>\n",
              "      <td>146.304</td>\n",
              "      <td>27.1</td>\n",
              "      <td>13</td>\n",
              "      <td>72</td>\n",
              "      <td>20</td>\n",
              "      <td>10.5</td>\n",
              "      <td>2</td>\n",
              "      <td>...</td>\n",
              "      <td>0</td>\n",
              "      <td>1</td>\n",
              "      <td>0</td>\n",
              "      <td>120</td>\n",
              "      <td>80</td>\n",
              "      <td>1</td>\n",
              "      <td>0</td>\n",
              "      <td>19.0</td>\n",
              "      <td>14.0</td>\n",
              "      <td>9.7</td>\n",
              "    </tr>\n",
              "    <tr>\n",
              "      <th>531</th>\n",
              "      <td>0</td>\n",
              "      <td>34</td>\n",
              "      <td>70.0</td>\n",
              "      <td>164.000</td>\n",
              "      <td>26.0</td>\n",
              "      <td>11</td>\n",
              "      <td>72</td>\n",
              "      <td>22</td>\n",
              "      <td>10.5</td>\n",
              "      <td>2</td>\n",
              "      <td>...</td>\n",
              "      <td>0</td>\n",
              "      <td>0</td>\n",
              "      <td>0</td>\n",
              "      <td>120</td>\n",
              "      <td>70</td>\n",
              "      <td>2</td>\n",
              "      <td>0</td>\n",
              "      <td>21.0</td>\n",
              "      <td>16.0</td>\n",
              "      <td>8.5</td>\n",
              "    </tr>\n",
              "    <tr>\n",
              "      <th>536</th>\n",
              "      <td>0</td>\n",
              "      <td>35</td>\n",
              "      <td>50.0</td>\n",
              "      <td>164.592</td>\n",
              "      <td>18.5</td>\n",
              "      <td>17</td>\n",
              "      <td>72</td>\n",
              "      <td>16</td>\n",
              "      <td>11.0</td>\n",
              "      <td>2</td>\n",
              "      <td>...</td>\n",
              "      <td>0</td>\n",
              "      <td>0</td>\n",
              "      <td>0</td>\n",
              "      <td>110</td>\n",
              "      <td>70</td>\n",
              "      <td>1</td>\n",
              "      <td>0</td>\n",
              "      <td>17.5</td>\n",
              "      <td>10.0</td>\n",
              "      <td>6.7</td>\n",
              "    </tr>\n",
              "    <tr>\n",
              "      <th>538</th>\n",
              "      <td>0</td>\n",
              "      <td>36</td>\n",
              "      <td>54.0</td>\n",
              "      <td>152.000</td>\n",
              "      <td>23.4</td>\n",
              "      <td>13</td>\n",
              "      <td>74</td>\n",
              "      <td>20</td>\n",
              "      <td>10.8</td>\n",
              "      <td>2</td>\n",
              "      <td>...</td>\n",
              "      <td>0</td>\n",
              "      <td>0</td>\n",
              "      <td>0</td>\n",
              "      <td>110</td>\n",
              "      <td>80</td>\n",
              "      <td>1</td>\n",
              "      <td>0</td>\n",
              "      <td>18.0</td>\n",
              "      <td>9.0</td>\n",
              "      <td>7.3</td>\n",
              "    </tr>\n",
              "  </tbody>\n",
              "</table>\n",
              "<p>11 rows × 42 columns</p>\n",
              "</div>\n",
              "      <button class=\"colab-df-convert\" onclick=\"convertToInteractive('df-e71db328-83b0-46dd-9eeb-636d48eb5a41')\"\n",
              "              title=\"Convert this dataframe to an interactive table.\"\n",
              "              style=\"display:none;\">\n",
              "        \n",
              "  <svg xmlns=\"http://www.w3.org/2000/svg\" height=\"24px\"viewBox=\"0 0 24 24\"\n",
              "       width=\"24px\">\n",
              "    <path d=\"M0 0h24v24H0V0z\" fill=\"none\"/>\n",
              "    <path d=\"M18.56 5.44l.94 2.06.94-2.06 2.06-.94-2.06-.94-.94-2.06-.94 2.06-2.06.94zm-11 1L8.5 8.5l.94-2.06 2.06-.94-2.06-.94L8.5 2.5l-.94 2.06-2.06.94zm10 10l.94 2.06.94-2.06 2.06-.94-2.06-.94-.94-2.06-.94 2.06-2.06.94z\"/><path d=\"M17.41 7.96l-1.37-1.37c-.4-.4-.92-.59-1.43-.59-.52 0-1.04.2-1.43.59L10.3 9.45l-7.72 7.72c-.78.78-.78 2.05 0 2.83L4 21.41c.39.39.9.59 1.41.59.51 0 1.02-.2 1.41-.59l7.78-7.78 2.81-2.81c.8-.78.8-2.07 0-2.86zM5.41 20L4 18.59l7.72-7.72 1.47 1.35L5.41 20z\"/>\n",
              "  </svg>\n",
              "      </button>\n",
              "      \n",
              "  <style>\n",
              "    .colab-df-container {\n",
              "      display:flex;\n",
              "      flex-wrap:wrap;\n",
              "      gap: 12px;\n",
              "    }\n",
              "\n",
              "    .colab-df-convert {\n",
              "      background-color: #E8F0FE;\n",
              "      border: none;\n",
              "      border-radius: 50%;\n",
              "      cursor: pointer;\n",
              "      display: none;\n",
              "      fill: #1967D2;\n",
              "      height: 32px;\n",
              "      padding: 0 0 0 0;\n",
              "      width: 32px;\n",
              "    }\n",
              "\n",
              "    .colab-df-convert:hover {\n",
              "      background-color: #E2EBFA;\n",
              "      box-shadow: 0px 1px 2px rgba(60, 64, 67, 0.3), 0px 1px 3px 1px rgba(60, 64, 67, 0.15);\n",
              "      fill: #174EA6;\n",
              "    }\n",
              "\n",
              "    [theme=dark] .colab-df-convert {\n",
              "      background-color: #3B4455;\n",
              "      fill: #D2E3FC;\n",
              "    }\n",
              "\n",
              "    [theme=dark] .colab-df-convert:hover {\n",
              "      background-color: #434B5C;\n",
              "      box-shadow: 0px 1px 3px 1px rgba(0, 0, 0, 0.15);\n",
              "      filter: drop-shadow(0px 1px 2px rgba(0, 0, 0, 0.3));\n",
              "      fill: #FFFFFF;\n",
              "    }\n",
              "  </style>\n",
              "\n",
              "      <script>\n",
              "        const buttonEl =\n",
              "          document.querySelector('#df-e71db328-83b0-46dd-9eeb-636d48eb5a41 button.colab-df-convert');\n",
              "        buttonEl.style.display =\n",
              "          google.colab.kernel.accessAllowed ? 'block' : 'none';\n",
              "\n",
              "        async function convertToInteractive(key) {\n",
              "          const element = document.querySelector('#df-e71db328-83b0-46dd-9eeb-636d48eb5a41');\n",
              "          const dataTable =\n",
              "            await google.colab.kernel.invokeFunction('convertToInteractive',\n",
              "                                                     [key], {});\n",
              "          if (!dataTable) return;\n",
              "\n",
              "          const docLinkHtml = 'Like what you see? Visit the ' +\n",
              "            '<a target=\"_blank\" href=https://colab.research.google.com/notebooks/data_table.ipynb>data table notebook</a>'\n",
              "            + ' to learn more about interactive tables.';\n",
              "          element.innerHTML = '';\n",
              "          dataTable['output_type'] = 'display_data';\n",
              "          await google.colab.output.renderOutput(dataTable, element);\n",
              "          const docLink = document.createElement('div');\n",
              "          docLink.innerHTML = docLinkHtml;\n",
              "          element.appendChild(docLink);\n",
              "        }\n",
              "      </script>\n",
              "    </div>\n",
              "  </div>\n",
              "  "
            ]
          },
          "metadata": {},
          "execution_count": 33
        }
      ]
    },
    {
      "cell_type": "code",
      "source": [
        "#'Avg. F size (L) (mm)'\n",
        "\n",
        "print(pcos_df['Avg. F size (L) (mm)'].describe())\n",
        "sns.boxplot(pcos_df['Avg. F size (L) (mm)'])\n",
        "#'Avg. F size (R) (mm)'\n",
        "print(pcos_df['Avg. F size (R) (mm)'].describe())\n",
        "sns.boxplot(pcos_df['Avg. F size (R) (mm)'])\n",
        "\n"
      ],
      "metadata": {
        "colab": {
          "base_uri": "https://localhost:8080/",
          "height": 698
        },
        "id": "Ax6R71PFY3X8",
        "outputId": "3cc1470e-b66d-419b-d434-31715f64825a"
      },
      "execution_count": null,
      "outputs": [
        {
          "output_type": "stream",
          "name": "stdout",
          "text": [
            "count    540.000000\n",
            "mean      15.018148\n",
            "std        3.570146\n",
            "min        0.000000\n",
            "25%       13.000000\n",
            "50%       15.000000\n",
            "75%       18.000000\n",
            "max       24.000000\n",
            "Name: Avg. F size (L) (mm), dtype: float64\n",
            "count    540.000000\n",
            "mean      15.448833\n",
            "std        3.321255\n",
            "min        0.000000\n",
            "25%       13.000000\n",
            "50%       16.000000\n",
            "75%       18.000000\n",
            "max       24.000000\n",
            "Name: Avg. F size (R) (mm), dtype: float64\n"
          ]
        },
        {
          "output_type": "stream",
          "name": "stderr",
          "text": [
            "/usr/local/lib/python3.7/dist-packages/seaborn/_decorators.py:43: FutureWarning: Pass the following variable as a keyword arg: x. From version 0.12, the only valid positional argument will be `data`, and passing other arguments without an explicit keyword will result in an error or misinterpretation.\n",
            "  FutureWarning\n",
            "/usr/local/lib/python3.7/dist-packages/seaborn/_decorators.py:43: FutureWarning: Pass the following variable as a keyword arg: x. From version 0.12, the only valid positional argument will be `data`, and passing other arguments without an explicit keyword will result in an error or misinterpretation.\n",
            "  FutureWarning\n"
          ]
        },
        {
          "output_type": "execute_result",
          "data": {
            "text/plain": [
              "<matplotlib.axes._subplots.AxesSubplot at 0x7f7437ac27d0>"
            ]
          },
          "metadata": {},
          "execution_count": 34
        },
        {
          "output_type": "display_data",
          "data": {
            "text/plain": [
              "<Figure size 432x288 with 1 Axes>"
            ],
            "image/png": "[encoded data removed]"
          },
          "metadata": {
            "needs_background": "light"
          }
        }
      ]
    },
    {
      "cell_type": "code",
      "source": [
        "#Endometrium (mm) :The layer of tissue that lines the uterus.\n",
        "pcos_df['Endometrium (mm)'].mask(pcos_df['Endometrium (mm)'] < 2 ,2 , inplace=True)\n",
        "print(pcos_df['Endometrium (mm)'].describe())\n",
        "sns.boxplot(pcos_df['Endometrium (mm)'])"
      ],
      "metadata": {
        "colab": {
          "base_uri": "https://localhost:8080/",
          "height": 507
        },
        "id": "nCKb3oTicO3c",
        "outputId": "d7f73ad7-2333-420f-cf9e-367f551a1f05"
      },
      "execution_count": null,
      "outputs": [
        {
          "output_type": "stream",
          "name": "stdout",
          "text": [
            "count    540.000000\n",
            "mean       8.483648\n",
            "std        2.141611\n",
            "min        2.000000\n",
            "25%        7.000000\n",
            "50%        8.500000\n",
            "75%        9.800000\n",
            "max       18.000000\n",
            "Name: Endometrium (mm), dtype: float64\n"
          ]
        },
        {
          "output_type": "stream",
          "name": "stderr",
          "text": [
            "/usr/local/lib/python3.7/dist-packages/seaborn/_decorators.py:43: FutureWarning: Pass the following variable as a keyword arg: x. From version 0.12, the only valid positional argument will be `data`, and passing other arguments without an explicit keyword will result in an error or misinterpretation.\n",
            "  FutureWarning\n"
          ]
        },
        {
          "output_type": "execute_result",
          "data": {
            "text/plain": [
              "<matplotlib.axes._subplots.AxesSubplot at 0x7f7437a45490>"
            ]
          },
          "metadata": {},
          "execution_count": 35
        },
        {
          "output_type": "display_data",
          "data": {
            "text/plain": [
              "<Figure size 432x288 with 1 Axes>"
            ],
            "image/png": "[encoded data removed]"
          },
          "metadata": {
            "needs_background": "light"
          }
        }
      ]
    },
    {
      "cell_type": "code",
      "source": [
        "#Function to determine outliers\n",
        "def outlier_thresholds(dataframe, variable):\n",
        "    quartile1 = dataframe[variable].quantile(0.05)\n",
        "    quartile3 = dataframe[variable].quantile(0.95)\n",
        "    interquantile_range = quartile3 - quartile1\n",
        "    up_limit = quartile3 + 1.5 * interquantile_range\n",
        "    low_limit = quartile1 - 1.5 * interquantile_range\n",
        "    return low_limit, up_limit\n",
        "\n",
        "def outliers(dataframe, num_col_names, plot=False):\n",
        "    variable_names = []\n",
        "    for col in num_col_names:\n",
        "        low_limit, up_limit = outlier_thresholds(dataframe, col)\n",
        "        if dataframe[(dataframe[col] > up_limit) | (dataframe[col] < low_limit)].any(axis=None):\n",
        "            number_of_outliers = dataframe[(dataframe[col] > up_limit) | (dataframe[col] < low_limit)].shape[0]\n",
        "            print(col, \":\", number_of_outliers)\n",
        "            \n",
        "            \n",
        "    return variable_names"
      ],
      "metadata": {
        "id": "Vu90dHggHokC"
      },
      "execution_count": null,
      "outputs": []
    },
    {
      "cell_type": "code",
      "source": [
        "outliers(pcos_df,pcos_df.columns).sort(reverse=True)"
      ],
      "metadata": {
        "colab": {
          "base_uri": "https://localhost:8080/"
        },
        "id": "DZwRcO9SHrXD",
        "outputId": "323316b3-5bf0-4710-9c3b-34fa061b9202"
      },
      "execution_count": null,
      "outputs": [
        {
          "output_type": "stream",
          "name": "stdout",
          "text": [
            "  I   beta-HCG(mIU/mL) : 14\n",
            "II    beta-HCG(mIU/mL) : 7\n",
            "FSH(mIU/mL) : 3\n",
            "FSH/LH : 8\n",
            "TSH (mIU/L) : 9\n",
            "PRL(ng/mL) : 2\n",
            "PRG(ng/mL) : 5\n",
            "RBS(mg/dl) : 2\n",
            "BP _Systolic (mmHg) : 2\n",
            "BP _Diastolic (mmHg) : 1\n"
          ]
        }
      ]
    },
    {
      "cell_type": "code",
      "source": [
        "def find_outliers_IQR(df):\n",
        "\n",
        "   q1=df.quantile(0.25)\n",
        "\n",
        "   q3=df.quantile(0.75)\n",
        "\n",
        "   IQR=q3-q1\n",
        "\n",
        "   outliers_detect = pcos_df[((pcos_df<(q1-1.5*IQR)) | (pcos_df>(q3+1.5*IQR)))]\n",
        "\n",
        "   return outliers"
      ],
      "metadata": {
        "id": "aebHafFIJcef"
      },
      "execution_count": null,
      "outputs": []
    },
    {
      "cell_type": "code",
      "source": [],
      "metadata": {
        "id": "T3K8dY2OLXRS"
      },
      "execution_count": null,
      "outputs": []
    },
    {
      "cell_type": "code",
      "source": [
        "pcos_df[['FSH(mIU/mL)','LH(mIU/mL)','FSH/LH']]"
      ],
      "metadata": {
        "colab": {
          "base_uri": "https://localhost:8080/",
          "height": 424
        },
        "id": "w1vqtaTpL5eH",
        "outputId": "2d77d30c-e0c1-4eba-d382-dfb0c62fa265"
      },
      "execution_count": null,
      "outputs": [
        {
          "output_type": "execute_result",
          "data": {
            "text/plain": [
              "     FSH(mIU/mL)  LH(mIU/mL)    FSH/LH\n",
              "0           7.95        3.68  2.160326\n",
              "1           6.73        1.09  6.174312\n",
              "2           5.54        0.88  6.295455\n",
              "3           8.06        2.36  3.415254\n",
              "4           3.98        0.90  4.422222\n",
              "..           ...         ...       ...\n",
              "536        10.06        1.81  5.558011\n",
              "537         5.07        2.84  1.785211\n",
              "538        11.96        2.78  4.302158\n",
              "539         4.40        4.33  1.016166\n",
              "540         3.99        4.30  0.927907\n",
              "\n",
              "[540 rows x 3 columns]"
            ],
            "text/html": [
              "\n",
              "  <div id=\"df-226d935c-3a20-4be1-8cd9-a688e00763e0\">\n",
              "    <div class=\"colab-df-container\">\n",
              "      <div>\n",
              "<style scoped>\n",
              "    .dataframe tbody tr th:only-of-type {\n",
              "        vertical-align: middle;\n",
              "    }\n",
              "\n",
              "    .dataframe tbody tr th {\n",
              "        vertical-align: top;\n",
              "    }\n",
              "\n",
              "    .dataframe thead th {\n",
              "        text-align: right;\n",
              "    }\n",
              "</style>\n",
              "<table border=\"1\" class=\"dataframe\">\n",
              "  <thead>\n",
              "    <tr style=\"text-align: right;\">\n",
              "      <th></th>\n",
              "      <th>FSH(mIU/mL)</th>\n",
              "      <th>LH(mIU/mL)</th>\n",
              "      <th>FSH/LH</th>\n",
              "    </tr>\n",
              "  </thead>\n",
              "  <tbody>\n",
              "    <tr>\n",
              "      <th>0</th>\n",
              "      <td>7.95</td>\n",
              "      <td>3.68</td>\n",
              "      <td>2.160326</td>\n",
              "    </tr>\n",
              "    <tr>\n",
              "      <th>1</th>\n",
              "      <td>6.73</td>\n",
              "      <td>1.09</td>\n",
              "      <td>6.174312</td>\n",
              "    </tr>\n",
              "    <tr>\n",
              "      <th>2</th>\n",
              "      <td>5.54</td>\n",
              "      <td>0.88</td>\n",
              "      <td>6.295455</td>\n",
              "    </tr>\n",
              "    <tr>\n",
              "      <th>3</th>\n",
              "      <td>8.06</td>\n",
              "      <td>2.36</td>\n",
              "      <td>3.415254</td>\n",
              "    </tr>\n",
              "    <tr>\n",
              "      <th>4</th>\n",
              "      <td>3.98</td>\n",
              "      <td>0.90</td>\n",
              "      <td>4.422222</td>\n",
              "    </tr>\n",
              "    <tr>\n",
              "      <th>...</th>\n",
              "      <td>...</td>\n",
              "      <td>...</td>\n",
              "      <td>...</td>\n",
              "    </tr>\n",
              "    <tr>\n",
              "      <th>536</th>\n",
              "      <td>10.06</td>\n",
              "      <td>1.81</td>\n",
              "      <td>5.558011</td>\n",
              "    </tr>\n",
              "    <tr>\n",
              "      <th>537</th>\n",
              "      <td>5.07</td>\n",
              "      <td>2.84</td>\n",
              "      <td>1.785211</td>\n",
              "    </tr>\n",
              "    <tr>\n",
              "      <th>538</th>\n",
              "      <td>11.96</td>\n",
              "      <td>2.78</td>\n",
              "      <td>4.302158</td>\n",
              "    </tr>\n",
              "    <tr>\n",
              "      <th>539</th>\n",
              "      <td>4.40</td>\n",
              "      <td>4.33</td>\n",
              "      <td>1.016166</td>\n",
              "    </tr>\n",
              "    <tr>\n",
              "      <th>540</th>\n",
              "      <td>3.99</td>\n",
              "      <td>4.30</td>\n",
              "      <td>0.927907</td>\n",
              "    </tr>\n",
              "  </tbody>\n",
              "</table>\n",
              "<p>540 rows × 3 columns</p>\n",
              "</div>\n",
              "      <button class=\"colab-df-convert\" onclick=\"convertToInteractive('df-226d935c-3a20-4be1-8cd9-a688e00763e0')\"\n",
              "              title=\"Convert this dataframe to an interactive table.\"\n",
              "              style=\"display:none;\">\n",
              "        \n",
              "  <svg xmlns=\"http://www.w3.org/2000/svg\" height=\"24px\"viewBox=\"0 0 24 24\"\n",
              "       width=\"24px\">\n",
              "    <path d=\"M0 0h24v24H0V0z\" fill=\"none\"/>\n",
              "    <path d=\"M18.56 5.44l.94 2.06.94-2.06 2.06-.94-2.06-.94-.94-2.06-.94 2.06-2.06.94zm-11 1L8.5 8.5l.94-2.06 2.06-.94-2.06-.94L8.5 2.5l-.94 2.06-2.06.94zm10 10l.94 2.06.94-2.06 2.06-.94-2.06-.94-.94-2.06-.94 2.06-2.06.94z\"/><path d=\"M17.41 7.96l-1.37-1.37c-.4-.4-.92-.59-1.43-.59-.52 0-1.04.2-1.43.59L10.3 9.45l-7.72 7.72c-.78.78-.78 2.05 0 2.83L4 21.41c.39.39.9.59 1.41.59.51 0 1.02-.2 1.41-.59l7.78-7.78 2.81-2.81c.8-.78.8-2.07 0-2.86zM5.41 20L4 18.59l7.72-7.72 1.47 1.35L5.41 20z\"/>\n",
              "  </svg>\n",
              "      </button>\n",
              "      \n",
              "  <style>\n",
              "    .colab-df-container {\n",
              "      display:flex;\n",
              "      flex-wrap:wrap;\n",
              "      gap: 12px;\n",
              "    }\n",
              "\n",
              "    .colab-df-convert {\n",
              "      background-color: #E8F0FE;\n",
              "      border: none;\n",
              "      border-radius: 50%;\n",
              "      cursor: pointer;\n",
              "      display: none;\n",
              "      fill: #1967D2;\n",
              "      height: 32px;\n",
              "      padding: 0 0 0 0;\n",
              "      width: 32px;\n",
              "    }\n",
              "\n",
              "    .colab-df-convert:hover {\n",
              "      background-color: #E2EBFA;\n",
              "      box-shadow: 0px 1px 2px rgba(60, 64, 67, 0.3), 0px 1px 3px 1px rgba(60, 64, 67, 0.15);\n",
              "      fill: #174EA6;\n",
              "    }\n",
              "\n",
              "    [theme=dark] .colab-df-convert {\n",
              "      background-color: #3B4455;\n",
              "      fill: #D2E3FC;\n",
              "    }\n",
              "\n",
              "    [theme=dark] .colab-df-convert:hover {\n",
              "      background-color: #434B5C;\n",
              "      box-shadow: 0px 1px 3px 1px rgba(0, 0, 0, 0.15);\n",
              "      filter: drop-shadow(0px 1px 2px rgba(0, 0, 0, 0.3));\n",
              "      fill: #FFFFFF;\n",
              "    }\n",
              "  </style>\n",
              "\n",
              "      <script>\n",
              "        const buttonEl =\n",
              "          document.querySelector('#df-226d935c-3a20-4be1-8cd9-a688e00763e0 button.colab-df-convert');\n",
              "        buttonEl.style.display =\n",
              "          google.colab.kernel.accessAllowed ? 'block' : 'none';\n",
              "\n",
              "        async function convertToInteractive(key) {\n",
              "          const element = document.querySelector('#df-226d935c-3a20-4be1-8cd9-a688e00763e0');\n",
              "          const dataTable =\n",
              "            await google.colab.kernel.invokeFunction('convertToInteractive',\n",
              "                                                     [key], {});\n",
              "          if (!dataTable) return;\n",
              "\n",
              "          const docLinkHtml = 'Like what you see? Visit the ' +\n",
              "            '<a target=\"_blank\" href=https://colab.research.google.com/notebooks/data_table.ipynb>data table notebook</a>'\n",
              "            + ' to learn more about interactive tables.';\n",
              "          element.innerHTML = '';\n",
              "          dataTable['output_type'] = 'display_data';\n",
              "          await google.colab.output.renderOutput(dataTable, element);\n",
              "          const docLink = document.createElement('div');\n",
              "          docLink.innerHTML = docLinkHtml;\n",
              "          element.appendChild(docLink);\n",
              "        }\n",
              "      </script>\n",
              "    </div>\n",
              "  </div>\n",
              "  "
            ]
          },
          "metadata": {},
          "execution_count": 39
        }
      ]
    },
    {
      "cell_type": "code",
      "source": [
        "pcos_df.to_csv('pcos.csv', index=False)"
      ],
      "metadata": {
        "id": "jzY_AVOzLYkO"
      },
      "execution_count": null,
      "outputs": []
    },
    {
      "cell_type": "code",
      "source": [
        "from google.colab import drive\n",
        "drive.mount('/content/drive')"
      ],
      "metadata": {
        "id": "D8AYtnc0NuYg"
      },
      "execution_count": null,
      "outputs": []
    },
    {
      "cell_type": "code",
      "source": [
        "pcos_df.describe()\n"
      ],
      "metadata": {
        "colab": {
          "base_uri": "https://localhost:8080/",
          "height": 428
        },
        "id": "bJ-FwesxLk3p",
        "outputId": "cd87e7e3-cbcb-41b8-d39b-72b37969f01f"
      },
      "execution_count": null,
      "outputs": [
        {
          "output_type": "execute_result",
          "data": {
            "text/plain": [
              "       PCOS (Y/N)   Age (yrs)  Weight (Kg)  Height(Cm)          BMI  \\\n",
              "count  540.000000  540.000000   540.000000   540.000000  540.000000   \n",
              "mean     0.325926   31.405556    59.590185   156.491289   24.285370   \n",
              "std      0.469154    5.384335    10.984220     6.037270    4.025824   \n",
              "min      0.000000   20.000000    31.000000   137.000000   12.400000   \n",
              "25%      0.000000   27.750000    52.000000   152.000000   21.600000   \n",
              "50%      0.000000   31.000000    59.000000   156.000000   24.200000   \n",
              "75%      1.000000   35.000000    65.000000   160.000000   26.600000   \n",
              "max      1.000000   48.000000   108.000000   180.000000   38.900000   \n",
              "\n",
              "       Blood Group  Pulse rate(bpm)   RR (breaths/min)    Hb(g/dl)  \\\n",
              "count   540.000000        540.000000        540.000000  540.000000   \n",
              "mean     13.800000         73.459259         19.246296   11.158481   \n",
              "std       1.841795          2.687877          1.689344    0.866952   \n",
              "min      11.000000         70.000000         16.000000    8.500000   \n",
              "25%      13.000000         72.000000         18.000000   10.500000   \n",
              "50%      14.000000         72.000000         18.000000   11.000000   \n",
              "75%      15.000000         74.000000         20.000000   11.700000   \n",
              "max      18.000000         82.000000         28.000000   14.800000   \n",
              "\n",
              "       Cycle(R/I)  ...  Pimples(Y/N)  Fast food (Y/N)  Reg.Exercise(Y/N)  \\\n",
              "count  540.000000  ...    540.000000       540.000000         540.000000   \n",
              "mean     2.557407  ...      0.488889         0.514815           0.248148   \n",
              "std      0.900649  ...      0.500340         0.500244           0.432339   \n",
              "min      2.000000  ...      0.000000         0.000000           0.000000   \n",
              "25%      2.000000  ...      0.000000         0.000000           0.000000   \n",
              "50%      2.000000  ...      0.000000         1.000000           0.000000   \n",
              "75%      4.000000  ...      1.000000         1.000000           0.000000   \n",
              "max      5.000000  ...      1.000000         1.000000           1.000000   \n",
              "\n",
              "       BP _Systolic (mmHg)  BP _Diastolic (mmHg)  Follicle No. (L)  \\\n",
              "count           540.000000            540.000000        540.000000   \n",
              "mean            114.833333             77.055556          6.122222   \n",
              "std               5.919215              4.722019          4.229925   \n",
              "min             100.000000             60.000000          0.000000   \n",
              "25%             110.000000             70.000000          3.000000   \n",
              "50%             110.000000             80.000000          5.000000   \n",
              "75%             120.000000             80.000000          9.000000   \n",
              "max             140.000000            100.000000         22.000000   \n",
              "\n",
              "       Follicle No. (R)  Avg. F size (L) (mm)  Avg. F size (R) (mm)  \\\n",
              "count        540.000000            540.000000            540.000000   \n",
              "mean           6.625926             15.018148             15.448833   \n",
              "std            4.426358              3.570146              3.321255   \n",
              "min            0.000000              0.000000              0.000000   \n",
              "25%            3.000000             13.000000             13.000000   \n",
              "50%            6.000000             15.000000             16.000000   \n",
              "75%           10.000000             18.000000             18.000000   \n",
              "max           20.000000             24.000000             24.000000   \n",
              "\n",
              "       Endometrium (mm)  \n",
              "count        540.000000  \n",
              "mean           8.483648  \n",
              "std            2.141611  \n",
              "min            2.000000  \n",
              "25%            7.000000  \n",
              "50%            8.500000  \n",
              "75%            9.800000  \n",
              "max           18.000000  \n",
              "\n",
              "[8 rows x 42 columns]"
            ],
            "text/html": [
              "\n",
              "  <div id=\"df-58f3f6c8-73e0-4b76-bcb9-5770d30174f7\">\n",
              "    <div class=\"colab-df-container\">\n",
              "      <div>\n",
              "<style scoped>\n",
              "    .dataframe tbody tr th:only-of-type {\n",
              "        vertical-align: middle;\n",
              "    }\n",
              "\n",
              "    .dataframe tbody tr th {\n",
              "        vertical-align: top;\n",
              "    }\n",
              "\n",
              "    .dataframe thead th {\n",
              "        text-align: right;\n",
              "    }\n",
              "</style>\n",
              "<table border=\"1\" class=\"dataframe\">\n",
              "  <thead>\n",
              "    <tr style=\"text-align: right;\">\n",
              "      <th></th>\n",
              "      <th>PCOS (Y/N)</th>\n",
              "      <th>Age (yrs)</th>\n",
              "      <th>Weight (Kg)</th>\n",
              "      <th>Height(Cm)</th>\n",
              "      <th>BMI</th>\n",
              "      <th>Blood Group</th>\n",
              "      <th>Pulse rate(bpm)</th>\n",
              "      <th>RR (breaths/min)</th>\n",
              "      <th>Hb(g/dl)</th>\n",
              "      <th>Cycle(R/I)</th>\n",
              "      <th>...</th>\n",
              "      <th>Pimples(Y/N)</th>\n",
              "      <th>Fast food (Y/N)</th>\n",
              "      <th>Reg.Exercise(Y/N)</th>\n",
              "      <th>BP _Systolic (mmHg)</th>\n",
              "      <th>BP _Diastolic (mmHg)</th>\n",
              "      <th>Follicle No. (L)</th>\n",
              "      <th>Follicle No. (R)</th>\n",
              "      <th>Avg. F size (L) (mm)</th>\n",
              "      <th>Avg. F size (R) (mm)</th>\n",
              "      <th>Endometrium (mm)</th>\n",
              "    </tr>\n",
              "  </thead>\n",
              "  <tbody>\n",
              "    <tr>\n",
              "      <th>count</th>\n",
              "      <td>540.000000</td>\n",
              "      <td>540.000000</td>\n",
              "      <td>540.000000</td>\n",
              "      <td>540.000000</td>\n",
              "      <td>540.000000</td>\n",
              "      <td>540.000000</td>\n",
              "      <td>540.000000</td>\n",
              "      <td>540.000000</td>\n",
              "      <td>540.000000</td>\n",
              "      <td>540.000000</td>\n",
              "      <td>...</td>\n",
              "      <td>540.000000</td>\n",
              "      <td>540.000000</td>\n",
              "      <td>540.000000</td>\n",
              "      <td>540.000000</td>\n",
              "      <td>540.000000</td>\n",
              "      <td>540.000000</td>\n",
              "      <td>540.000000</td>\n",
              "      <td>540.000000</td>\n",
              "      <td>540.000000</td>\n",
              "      <td>540.000000</td>\n",
              "    </tr>\n",
              "    <tr>\n",
              "      <th>mean</th>\n",
              "      <td>0.325926</td>\n",
              "      <td>31.405556</td>\n",
              "      <td>59.590185</td>\n",
              "      <td>156.491289</td>\n",
              "      <td>24.285370</td>\n",
              "      <td>13.800000</td>\n",
              "      <td>73.459259</td>\n",
              "      <td>19.246296</td>\n",
              "      <td>11.158481</td>\n",
              "      <td>2.557407</td>\n",
              "      <td>...</td>\n",
              "      <td>0.488889</td>\n",
              "      <td>0.514815</td>\n",
              "      <td>0.248148</td>\n",
              "      <td>114.833333</td>\n",
              "      <td>77.055556</td>\n",
              "      <td>6.122222</td>\n",
              "      <td>6.625926</td>\n",
              "      <td>15.018148</td>\n",
              "      <td>15.448833</td>\n",
              "      <td>8.483648</td>\n",
              "    </tr>\n",
              "    <tr>\n",
              "      <th>std</th>\n",
              "      <td>0.469154</td>\n",
              "      <td>5.384335</td>\n",
              "      <td>10.984220</td>\n",
              "      <td>6.037270</td>\n",
              "      <td>4.025824</td>\n",
              "      <td>1.841795</td>\n",
              "      <td>2.687877</td>\n",
              "      <td>1.689344</td>\n",
              "      <td>0.866952</td>\n",
              "      <td>0.900649</td>\n",
              "      <td>...</td>\n",
              "      <td>0.500340</td>\n",
              "      <td>0.500244</td>\n",
              "      <td>0.432339</td>\n",
              "      <td>5.919215</td>\n",
              "      <td>4.722019</td>\n",
              "      <td>4.229925</td>\n",
              "      <td>4.426358</td>\n",
              "      <td>3.570146</td>\n",
              "      <td>3.321255</td>\n",
              "      <td>2.141611</td>\n",
              "    </tr>\n",
              "    <tr>\n",
              "      <th>min</th>\n",
              "      <td>0.000000</td>\n",
              "      <td>20.000000</td>\n",
              "      <td>31.000000</td>\n",
              "      <td>137.000000</td>\n",
              "      <td>12.400000</td>\n",
              "      <td>11.000000</td>\n",
              "      <td>70.000000</td>\n",
              "      <td>16.000000</td>\n",
              "      <td>8.500000</td>\n",
              "      <td>2.000000</td>\n",
              "      <td>...</td>\n",
              "      <td>0.000000</td>\n",
              "      <td>0.000000</td>\n",
              "      <td>0.000000</td>\n",
              "      <td>100.000000</td>\n",
              "      <td>60.000000</td>\n",
              "      <td>0.000000</td>\n",
              "      <td>0.000000</td>\n",
              "      <td>0.000000</td>\n",
              "      <td>0.000000</td>\n",
              "      <td>2.000000</td>\n",
              "    </tr>\n",
              "    <tr>\n",
              "      <th>25%</th>\n",
              "      <td>0.000000</td>\n",
              "      <td>27.750000</td>\n",
              "      <td>52.000000</td>\n",
              "      <td>152.000000</td>\n",
              "      <td>21.600000</td>\n",
              "      <td>13.000000</td>\n",
              "      <td>72.000000</td>\n",
              "      <td>18.000000</td>\n",
              "      <td>10.500000</td>\n",
              "      <td>2.000000</td>\n",
              "      <td>...</td>\n",
              "      <td>0.000000</td>\n",
              "      <td>0.000000</td>\n",
              "      <td>0.000000</td>\n",
              "      <td>110.000000</td>\n",
              "      <td>70.000000</td>\n",
              "      <td>3.000000</td>\n",
              "      <td>3.000000</td>\n",
              "      <td>13.000000</td>\n",
              "      <td>13.000000</td>\n",
              "      <td>7.000000</td>\n",
              "    </tr>\n",
              "    <tr>\n",
              "      <th>50%</th>\n",
              "      <td>0.000000</td>\n",
              "      <td>31.000000</td>\n",
              "      <td>59.000000</td>\n",
              "      <td>156.000000</td>\n",
              "      <td>24.200000</td>\n",
              "      <td>14.000000</td>\n",
              "      <td>72.000000</td>\n",
              "      <td>18.000000</td>\n",
              "      <td>11.000000</td>\n",
              "      <td>2.000000</td>\n",
              "      <td>...</td>\n",
              "      <td>0.000000</td>\n",
              "      <td>1.000000</td>\n",
              "      <td>0.000000</td>\n",
              "      <td>110.000000</td>\n",
              "      <td>80.000000</td>\n",
              "      <td>5.000000</td>\n",
              "      <td>6.000000</td>\n",
              "      <td>15.000000</td>\n",
              "      <td>16.000000</td>\n",
              "      <td>8.500000</td>\n",
              "    </tr>\n",
              "    <tr>\n",
              "      <th>75%</th>\n",
              "      <td>1.000000</td>\n",
              "      <td>35.000000</td>\n",
              "      <td>65.000000</td>\n",
              "      <td>160.000000</td>\n",
              "      <td>26.600000</td>\n",
              "      <td>15.000000</td>\n",
              "      <td>74.000000</td>\n",
              "      <td>20.000000</td>\n",
              "      <td>11.700000</td>\n",
              "      <td>4.000000</td>\n",
              "      <td>...</td>\n",
              "      <td>1.000000</td>\n",
              "      <td>1.000000</td>\n",
              "      <td>0.000000</td>\n",
              "      <td>120.000000</td>\n",
              "      <td>80.000000</td>\n",
              "      <td>9.000000</td>\n",
              "      <td>10.000000</td>\n",
              "      <td>18.000000</td>\n",
              "      <td>18.000000</td>\n",
              "      <td>9.800000</td>\n",
              "    </tr>\n",
              "    <tr>\n",
              "      <th>max</th>\n",
              "      <td>1.000000</td>\n",
              "      <td>48.000000</td>\n",
              "      <td>108.000000</td>\n",
              "      <td>180.000000</td>\n",
              "      <td>38.900000</td>\n",
              "      <td>18.000000</td>\n",
              "      <td>82.000000</td>\n",
              "      <td>28.000000</td>\n",
              "      <td>14.800000</td>\n",
              "      <td>5.000000</td>\n",
              "      <td>...</td>\n",
              "      <td>1.000000</td>\n",
              "      <td>1.000000</td>\n",
              "      <td>1.000000</td>\n",
              "      <td>140.000000</td>\n",
              "      <td>100.000000</td>\n",
              "      <td>22.000000</td>\n",
              "      <td>20.000000</td>\n",
              "      <td>24.000000</td>\n",
              "      <td>24.000000</td>\n",
              "      <td>18.000000</td>\n",
              "    </tr>\n",
              "  </tbody>\n",
              "</table>\n",
              "<p>8 rows × 42 columns</p>\n",
              "</div>\n",
              "      <button class=\"colab-df-convert\" onclick=\"convertToInteractive('df-58f3f6c8-73e0-4b76-bcb9-5770d30174f7')\"\n",
              "              title=\"Convert this dataframe to an interactive table.\"\n",
              "              style=\"display:none;\">\n",
              "        \n",
              "  <svg xmlns=\"http://www.w3.org/2000/svg\" height=\"24px\"viewBox=\"0 0 24 24\"\n",
              "       width=\"24px\">\n",
              "    <path d=\"M0 0h24v24H0V0z\" fill=\"none\"/>\n",
              "    <path d=\"M18.56 5.44l.94 2.06.94-2.06 2.06-.94-2.06-.94-.94-2.06-.94 2.06-2.06.94zm-11 1L8.5 8.5l.94-2.06 2.06-.94-2.06-.94L8.5 2.5l-.94 2.06-2.06.94zm10 10l.94 2.06.94-2.06 2.06-.94-2.06-.94-.94-2.06-.94 2.06-2.06.94z\"/><path d=\"M17.41 7.96l-1.37-1.37c-.4-.4-.92-.59-1.43-.59-.52 0-1.04.2-1.43.59L10.3 9.45l-7.72 7.72c-.78.78-.78 2.05 0 2.83L4 21.41c.39.39.9.59 1.41.59.51 0 1.02-.2 1.41-.59l7.78-7.78 2.81-2.81c.8-.78.8-2.07 0-2.86zM5.41 20L4 18.59l7.72-7.72 1.47 1.35L5.41 20z\"/>\n",
              "  </svg>\n",
              "      </button>\n",
              "      \n",
              "  <style>\n",
              "    .colab-df-container {\n",
              "      display:flex;\n",
              "      flex-wrap:wrap;\n",
              "      gap: 12px;\n",
              "    }\n",
              "\n",
              "    .colab-df-convert {\n",
              "      background-color: #E8F0FE;\n",
              "      border: none;\n",
              "      border-radius: 50%;\n",
              "      cursor: pointer;\n",
              "      display: none;\n",
              "      fill: #1967D2;\n",
              "      height: 32px;\n",
              "      padding: 0 0 0 0;\n",
              "      width: 32px;\n",
              "    }\n",
              "\n",
              "    .colab-df-convert:hover {\n",
              "      background-color: #E2EBFA;\n",
              "      box-shadow: 0px 1px 2px rgba(60, 64, 67, 0.3), 0px 1px 3px 1px rgba(60, 64, 67, 0.15);\n",
              "      fill: #174EA6;\n",
              "    }\n",
              "\n",
              "    [theme=dark] .colab-df-convert {\n",
              "      background-color: #3B4455;\n",
              "      fill: #D2E3FC;\n",
              "    }\n",
              "\n",
              "    [theme=dark] .colab-df-convert:hover {\n",
              "      background-color: #434B5C;\n",
              "      box-shadow: 0px 1px 3px 1px rgba(0, 0, 0, 0.15);\n",
              "      filter: drop-shadow(0px 1px 2px rgba(0, 0, 0, 0.3));\n",
              "      fill: #FFFFFF;\n",
              "    }\n",
              "  </style>\n",
              "\n",
              "      <script>\n",
              "        const buttonEl =\n",
              "          document.querySelector('#df-58f3f6c8-73e0-4b76-bcb9-5770d30174f7 button.colab-df-convert');\n",
              "        buttonEl.style.display =\n",
              "          google.colab.kernel.accessAllowed ? 'block' : 'none';\n",
              "\n",
              "        async function convertToInteractive(key) {\n",
              "          const element = document.querySelector('#df-58f3f6c8-73e0-4b76-bcb9-5770d30174f7');\n",
              "          const dataTable =\n",
              "            await google.colab.kernel.invokeFunction('convertToInteractive',\n",
              "                                                     [key], {});\n",
              "          if (!dataTable) return;\n",
              "\n",
              "          const docLinkHtml = 'Like what you see? Visit the ' +\n",
              "            '<a target=\"_blank\" href=https://colab.research.google.com/notebooks/data_table.ipynb>data table notebook</a>'\n",
              "            + ' to learn more about interactive tables.';\n",
              "          element.innerHTML = '';\n",
              "          dataTable['output_type'] = 'display_data';\n",
              "          await google.colab.output.renderOutput(dataTable, element);\n",
              "          const docLink = document.createElement('div');\n",
              "          docLink.innerHTML = docLinkHtml;\n",
              "          element.appendChild(docLink);\n",
              "        }\n",
              "      </script>\n",
              "    </div>\n",
              "  </div>\n",
              "  "
            ]
          },
          "metadata": {},
          "execution_count": 41
        }
      ]
    }
  ]
}